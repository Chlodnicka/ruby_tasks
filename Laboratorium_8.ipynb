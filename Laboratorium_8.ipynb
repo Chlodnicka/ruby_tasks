{
 "cells": [
  {
   "cell_type": "markdown",
   "metadata": {},
   "source": [
    "# Zapytania złożone"
   ]
  },
  {
   "cell_type": "markdown",
   "metadata": {},
   "source": [
    "Przed rozpoczęciem pracy konieczne jest skonfigurowanie bazy oraz załadowanie danych:\n",
    "```ruby\n",
    "$:.unshift \".\"\n",
    "require 'db_setup'\n",
    "require 'db_load'\n",
    "```"
   ]
  },
  {
   "cell_type": "code",
   "execution_count": 6,
   "metadata": {
    "collapsed": false
   },
   "outputs": [
    {
     "data": {
      "text/plain": [
       "false"
      ]
     },
     "execution_count": 6,
     "metadata": {},
     "output_type": "execute_result"
    }
   ],
   "source": [
    "$:.unshift \".\"\n",
    "require 'db_setup'\n",
    "require 'db_load'"
   ]
  },
  {
   "cell_type": "markdown",
   "metadata": {},
   "source": [
    "W dalszych zadaniach będzie wykonywać polecenia korzystając z następujących klas, zmapowanych na odpowiadające im \n",
    "table w bazie danych:\n",
    "```ruby\n",
    "class Author < ActiveRecord::Base\n",
    "  # name      (string)\n",
    "  # surname   (string)\n",
    "  # born      (datetime) \n",
    "  # died      (datetime)\n",
    "  # image_url (string)\n",
    "  \n",
    "  has_many :books\n",
    "end\n",
    "\n",
    "class Book < ActiveRecord::Base\n",
    "  # title     (string)\n",
    "  # author    (Author)\n",
    "  # published (integer)\n",
    "\n",
    "  belongs_to :author\n",
    "end\n",
    "```"
   ]
  },
  {
   "cell_type": "markdown",
   "metadata": {},
   "source": [
    "ActiveRecord udostępnia interfejs pozwalający wyszukiwać dane w bazie również z wykorzystaniem związków zdefiniowanych pomiędzy\n",
    "klasami. Do definiowania tych związków służą polecenia `has_many`, `belongs_to`, `has_one` oraz `has_and_belongs_to_many`.\n",
    "Przykładowo jeśli chcemy dowiedzieć się kto był autorem pierwszej książki wykonujemy zapytanie:\n",
    "```ruby\n",
    "book = Book.first\n",
    "puts book.title\n",
    "puts book.author\n",
    "```"
   ]
  },
  {
   "cell_type": "code",
   "execution_count": 7,
   "metadata": {
    "collapsed": false
   },
   "outputs": [
    {
     "name": "stdout",
     "output_type": "stream",
     "text": [
      "Végjáték (regény)\n",
      "#<Author:0x00000002a2d850>\n"
     ]
    }
   ],
   "source": [
    "book = Book.first\n",
    "puts book.title\n",
    "puts book.author"
   ]
  },
  {
   "cell_type": "markdown",
   "metadata": {},
   "source": [
    "Niestety prezentowany wynik nie jest zbyt użyteczny. Ponieważ jednak metoda `author` zwraca obiekt, możemy na nim wywoływać \n",
    "metody - tak samo jak w przypadku autora załadowanego bezpośrednio z wykorzystaniem metod zdefiniowanych dla klasy `Author`\n",
    "```ruby\n",
    "book = Book.first\n",
    "puts book.title\n",
    "puts \"#{book.author.name} #{book.author.surname}\"\n",
    "```"
   ]
  },
  {
   "cell_type": "code",
   "execution_count": 8,
   "metadata": {
    "collapsed": false
   },
   "outputs": [
    {
     "name": "stdout",
     "output_type": "stream",
     "text": [
      "Végjáték (regény)\n",
      "Orson Scott Card\n"
     ]
    }
   ],
   "source": [
    "book = Book.first\n",
    "puts book.title\n",
    "puts \"#{book.author.name} #{book.author.surname}\""
   ]
  },
  {
   "cell_type": "markdown",
   "metadata": {},
   "source": [
    "Co więcej, jeśli mamy do czynienia ze związkiem jeden-do-wiele bądź wiele-do-wiele, możemy wywyływać wszystkie dotychczas poznane \n",
    "metody na kolekcji powiązanych obiektów. Istotnie ułatwia to wyszukiwanie potrzebnych danych:\n",
    "```ruby\n",
    "books = Book.where(\"title like 'A%'\")\n",
    "books.each do |book|\n",
    "  puts book.title\n",
    "end\n",
    "\n",
    "author = Author.where(surname: \"Tołstoj\").first\n",
    "books = author.books.where(\"title like 'A%'\")\n",
    "books.each do |book|\n",
    "  puts book.title\n",
    "end\n",
    "```"
   ]
  },
  {
   "cell_type": "code",
   "execution_count": 10,
   "metadata": {
    "collapsed": false
   },
   "outputs": [
    {
     "name": "stdout",
     "output_type": "stream",
     "text": [
      "Anna Karenina\n",
      "Azazel (powieść)\n",
      "Anna Karenina\n"
     ]
    },
    {
     "data": {
      "text/plain": [
       "[#<Book id: 33, title: \"Anna Karenina\", language: nil, author_id: 30, published: 1877, image_url: \"http://commons.wikimedia.org/wiki/Special:FilePath...\">]"
      ]
     },
     "execution_count": 10,
     "metadata": {},
     "output_type": "execute_result"
    }
   ],
   "source": [
    "books = Book.where(\"title like 'A%'\")\n",
    "books.each do |book|\n",
    "  puts book.title\n",
    "end\n",
    "\n",
    "author = Author.where(surname: \"Tołstoj\").first\n",
    "books = author.books.where(\"title like 'A%'\")\n",
    "books.each do |book|\n",
    "  puts book.title\n",
    "end"
   ]
  },
  {
   "cell_type": "markdown",
   "metadata": {},
   "source": [
    "Różnica pomiędzy tymi zapytaniami polega na tym, że w pierwszym przypadku szukamy książki, których tytuł zaczyna się na \"A\" \n",
    "w całym zbiorze książek, a w drugi przypadku wśród książek napisanych przez Tołstoja."
   ]
  },
  {
   "cell_type": "markdown",
   "metadata": {},
   "source": [
    "Aby umożliwić formatowanie wyników zapytania, IRuby udostępnia metodę `IRuby.html`, która pozwala na wyświetlanie kodu\n",
    "HTML. Przykładowo\n",
    "```ruby\n",
    "IRuby.html \"<h1>Test HTML-a</h1>\"\n",
    "```"
   ]
  },
  {
   "cell_type": "code",
   "execution_count": 11,
   "metadata": {
    "collapsed": false
   },
   "outputs": [
    {
     "data": {
      "text/html": [
       "<h1>Test HTML-a</h1>"
      ],
      "text/plain": [
       "\"<h1>Test HTML-a</h1>\""
      ]
     },
     "execution_count": 11,
     "metadata": {},
     "output_type": "execute_result"
    }
   ],
   "source": [
    "IRuby.html \"<h1>Test HTML-a</h1>\""
   ]
  },
  {
   "cell_type": "markdown",
   "metadata": {},
   "source": [
    "Dzięki temu będziemy mogli formatować wyniki zapytań, a wszczególności wyświetlać obrazy przedstwiające autorów oraz książki. \n",
    "Należy jednak wziąć pod uwagę, że nie wszystkie książki oraz nie wszyscy autorzy posiadają odpowiadające im obrazki.\n",
    "Aby wyświetlić imię, nazwisko oraz obraz pierwszego autora piszemy:\n",
    "```ruby\n",
    "author = Author.where(\"image_url is not null\").first\n",
    "IRuby.html \"<h1>#{author.name} #{author.surname}</h1><img src='#{author.image_url}'/>\"\n",
    "```"
   ]
  },
  {
   "cell_type": "code",
   "execution_count": 12,
   "metadata": {
    "collapsed": false
   },
   "outputs": [
    {
     "data": {
      "text/html": [
       "<h1>Orson Scott Card</h1><img src='http://commons.wikimedia.org/wiki/Special:FilePath/Orson_Scott_Card_at_BYU_Symposium_20080216_closeup.jpg?width=300'/>"
      ],
      "text/plain": [
       "\"<h1>Orson Scott Card</h1><img src='http://commons.wikimedia.org/wiki/Special:FilePath/Orson_Scott_Card_at_BYU_Symposium_20080216_closeup.jpg?width=300'/>\""
      ]
     },
     "execution_count": 12,
     "metadata": {},
     "output_type": "execute_result"
    }
   ],
   "source": [
    "author = Author.where(\"image_url is not null\").first\n",
    "IRuby.html \"<h1>#{author.name} #{author.surname}</h1><img src='#{author.image_url}'/>\""
   ]
  },
  {
   "cell_type": "markdown",
   "metadata": {},
   "source": [
    "Możemy również zdefniować funkcję, np. `display_author`, której zadaniem będzie wyświetlenie autora w tej postaci. \n",
    "Jedyny problem polega na tym, że funkcja `IRuby.html` może być wywoływana tylko raz. Dlatego jeśli chcemy wyświetlić kilku autorów,\n",
    "musimy połączyć odpowiadające im kody HTML i wynik przekazać do funkcji `html`\n",
    "```ruby\n",
    "def display_author(author)\n",
    "  \"<h1>#{author.name} #{author.surname}</h1><img src='#{author.image_url}'/>\"\n",
    "end\n",
    "\n",
    "author_1 = Author.where(\"image_url is not null\").first\n",
    "author_2 = Author.where(\"image_url is not null\").offset(1).first\n",
    "document = display_author(author_1)\n",
    "document += display_author(author_2)\n",
    "IRuby.html document\n",
    "```"
   ]
  },
  {
   "cell_type": "code",
   "execution_count": 13,
   "metadata": {
    "collapsed": false
   },
   "outputs": [
    {
     "data": {
      "text/html": [
       "<h1>Orson Scott Card</h1><img src='http://commons.wikimedia.org/wiki/Special:FilePath/Orson_Scott_Card_at_BYU_Symposium_20080216_closeup.jpg?width=300'/><h1>Andrzej Sapkowski</h1><img src='http://commons.wikimedia.org/wiki/Special:FilePath/Sapkowski.jpg?width=300'/>"
      ],
      "text/plain": [
       "\"<h1>Orson Scott Card</h1><img src='http://commons.wikimedia.org/wiki/Special:FilePath/Orson_Scott_Card_at_BYU_Symposium_20080216_closeup.jpg?width=300'/><h1>Andrzej Sapkowski</h1><img src='http://commons.wikimedia.org/wiki/Special:FilePath/Sapkowski.jpg?width=300'/>\""
      ]
     },
     "execution_count": 13,
     "metadata": {},
     "output_type": "execute_result"
    }
   ],
   "source": [
    "def display_author(author)\n",
    "  \"<h1>#{author.name} #{author.surname}</h1><img src='#{author.image_url}'/>\"\n",
    "end\n",
    "\n",
    "author_1 = Author.where(\"image_url is not null\").first\n",
    "author_2 = Author.where(\"image_url is not null\").offset(1).first\n",
    "document = display_author(author_1)\n",
    "document += display_author(author_2)\n",
    "IRuby.html document"
   ]
  },
  {
   "cell_type": "markdown",
   "metadata": {},
   "source": [
    "## Zadania"
   ]
  },
  {
   "cell_type": "markdown",
   "metadata": {},
   "source": [
    "### Zadanie 1"
   ]
  },
  {
   "cell_type": "markdown",
   "metadata": {},
   "source": [
    "Wyświetl wszystkich autorów, którzy urodzili się przed rokiem 1900."
   ]
  },
  {
   "cell_type": "code",
   "execution_count": 14,
   "metadata": {
    "collapsed": false
   },
   "outputs": [
    {
     "name": "stdout",
     "output_type": "stream",
     "text": [
      "Juliusz Słowacki 04-09-1809 03-04-1849\n",
      "Henryk Sienkiewicz 05-05-1846 05-11-1916\n",
      "Eliza Orzeszkowa 06-06-1841 23-05-1910\n",
      "Adam Mickiewicz 24-12-1798 26-11-1855\n",
      "Jack London 12-01-1876 22-11-1916\n",
      "Mikołaj Kopernik 19-02-1473 24-05-1543\n",
      "William Szekspir 23-04-1564 03-05-1616\n",
      "John Ronald Reuel Tolkien 03-01-1892 02-09-1973\n",
      "Aleksander Dumas (ojciec) 24-07-1802 05-12-1870\n",
      "Tadeusz Dołęga-Mostowicz 10-08-1898 20-09-1939\n",
      "Vladimir Nabokov 22-04-1899 02-07-1977\n",
      "Adolf Hitler 20-04-1889 30-04-1945\n",
      "Benedykt Chmielowski 20-03-1700 07-04-1763\n",
      "Aldous Huxley 26-07-1894 22-11-1963\n",
      "Honoré de Balzac 20-05-1799 18-08-1850\n",
      "Franz Kafka 03-07-1883 03-06-1924\n",
      "Howard Phillips Lovecraft 20-08-1890 15-03-1937\n",
      "Lew Tołstoj 09-09-1828 20-11-1910\n",
      "Ilja Ilf 15-10-1897 13-04-1937\n",
      "Gabriela Zapolska 30-03-1857 17-12-1921\n",
      "Clive Staples Lewis 29-11-1898 22-11-1963\n",
      "Iwan Turgieniew 09-11-1818 03-09-1883\n",
      "Lucy Maud Montgomery 30-11-1874 24-04-1942\n",
      "Aleksander Majkowski 17-07-1876 10-02-1938\n"
     ]
    },
    {
     "data": {
      "text/plain": [
       "[#<Author id: 2, name: \"Juliusz\", surname: \"Słowacki\", born: \"1809-09-04\", died: \"1849-04-03\", image_url: nil>, #<Author id: 3, name: \"Henryk\", surname: \"Sienkiewicz\", born: \"1846-05-05\", died: \"1916-11-05\", image_url: nil>, #<Author id: 4, name: \"Eliza\", surname: \"Orzeszkowa\", born: \"1841-06-06\", died: \"1910-05-23\", image_url: nil>, #<Author id: 5, name: \"Adam\", surname: \"Mickiewicz\", born: \"1798-12-24\", died: \"1855-11-26\", image_url: nil>, #<Author id: 8, name: \"Jack\", surname: \"London\", born: \"1876-01-12\", died: \"1916-11-22\", image_url: \"http://commons.wikimedia.org/wiki/Special:FilePath...\">, #<Author id: 12, name: \"Mikołaj\", surname: \"Kopernik\", born: \"1473-02-19\", died: \"1543-05-24\", image_url: \"http://commons.wikimedia.org/wiki/Special:FilePath...\">, #<Author id: 13, name: \"Maria Franciszka\", surname: \"Kozłowska\", born: \"1862-05-27\", died: nil, image_url: \"http://commons.wikimedia.org/wiki/Special:FilePath...\">, #<Author id: 15, name: \"William\", surname: \"Szekspir\", born: \"1564-04-23\", died: \"1616-05-03\", image_url: \"http://commons.wikimedia.org/wiki/Special:FilePath...\">, #<Author id: 17, name: \"John Ronald Reuel\", surname: \"Tolkien\", born: \"1892-01-03\", died: \"1973-09-02\", image_url: \"http://commons.wikimedia.org/wiki/Special:FilePath...\">, #<Author id: 18, name: \"Aleksander Dumas\", surname: \"(ojciec)\", born: \"1802-07-24\", died: \"1870-12-05\", image_url: \"http://commons.wikimedia.org/wiki/Special:FilePath...\">, #<Author id: 19, name: \"Tadeusz\", surname: \"Dołęga-Mostowicz\", born: \"1898-08-10\", died: \"1939-09-20\", image_url: \"http://commons.wikimedia.org/wiki/Special:FilePath...\">, #<Author id: 20, name: \"Vladimir\", surname: \"Nabokov\", born: \"1899-04-22\", died: \"1977-07-02\", image_url: \"http://commons.wikimedia.org/wiki/Special:FilePath...\">, #<Author id: 21, name: \"Adolf\", surname: \"Hitler\", born: \"1889-04-20\", died: \"1945-04-30\", image_url: \"http://commons.wikimedia.org/wiki/Special:FilePath...\">, #<Author id: 23, name: \"Benedykt\", surname: \"Chmielowski\", born: \"1700-03-20\", died: \"1763-04-07\", image_url: \"http://commons.wikimedia.org/wiki/Special:FilePath...\">, #<Author id: 24, name: \"Aldous\", surname: \"Huxley\", born: \"1894-07-26\", died: \"1963-11-22\", image_url: \"http://commons.wikimedia.org/wiki/Special:FilePath...\">, #<Author id: 25, name: \"Honoré de\", surname: \"Balzac\", born: \"1799-05-20\", died: \"1850-08-18\", image_url: \"http://commons.wikimedia.org/wiki/Special:FilePath...\">, #<Author id: 26, name: \"Franz\", surname: \"Kafka\", born: \"1883-07-03\", died: \"1924-06-03\", image_url: \"http://commons.wikimedia.org/wiki/Special:FilePath...\">, #<Author id: 28, name: \"Howard Phillips\", surname: \"Lovecraft\", born: \"1890-08-20\", died: \"1937-03-15\", image_url: \"http://commons.wikimedia.org/wiki/Special:FilePath...\">, #<Author id: 30, name: \"Lew\", surname: \"Tołstoj\", born: \"1828-09-09\", died: \"1910-11-20\", image_url: \"http://commons.wikimedia.org/wiki/Special:FilePath...\">, #<Author id: 35, name: \"Ilja\", surname: \"Ilf\", born: \"1897-10-15\", died: \"1937-04-13\", image_url: \"http://commons.wikimedia.org/wiki/Special:FilePath...\">, #<Author id: 37, name: \"Gabriela\", surname: \"Zapolska\", born: \"1857-03-30\", died: \"1921-12-17\", image_url: \"http://commons.wikimedia.org/wiki/Special:FilePath...\">, #<Author id: 40, name: \"Clive Staples\", surname: \"Lewis\", born: \"1898-11-29\", died: \"1963-11-22\", image_url: \"http://commons.wikimedia.org/wiki/Special:FilePath...\">, #<Author id: 43, name: \"Iwan\", surname: \"Turgieniew\", born: \"1818-11-09\", died: \"1883-09-03\", image_url: \"http://commons.wikimedia.org/wiki/Special:FilePath...\">, #<Author id: 46, name: \"Lucy Maud\", surname: \"Montgomery\", born: \"1874-11-30\", died: \"1942-04-24\", image_url: \"http://commons.wikimedia.org/wiki/Special:FilePath...\">, #<Author id: 52, name: \"Aleksander\", surname: \"Majkowski\", born: \"1876-07-17\", died: \"1938-02-10\", image_url: \"http://commons.wikimedia.org/wiki/Special:FilePath...\">]"
      ]
     },
     "execution_count": 14,
     "metadata": {},
     "output_type": "execute_result"
    }
   ],
   "source": [
    "authors = Author.where(born: (Date.parse('0001-1-1')..Date.parse('1900-1-1')))\n",
    "authors.each do |author|\n",
    "  if author.born != nil && author.died != nil\n",
    "    puts \"#{author.name} #{author.surname} #{author.born.strftime(\"%d-%m-%Y\")} #{author.died.strftime(\"%d-%m-%Y\")}\"\n",
    "  end\n",
    "end"
   ]
  },
  {
   "cell_type": "markdown",
   "metadata": {},
   "source": [
    "### Zadanie 2"
   ]
  },
  {
   "cell_type": "markdown",
   "metadata": {},
   "source": [
    "Zmodyfikuj funkcję wyświetlającą autorów tak aby obejmowała ich datę urodzin i śmierci w formacie `dzień.miesiąc.rok`. Następnie wyświetl wszystkich autorów,\n",
    "którzy zmarli w XX wieku."
   ]
  },
  {
   "cell_type": "code",
   "execution_count": 15,
   "metadata": {
    "collapsed": false
   },
   "outputs": [
    {
     "name": "stdout",
     "output_type": "stream",
     "text": [
      "Henryk Sienkiewicz 05-05-1846 05-11-1916\n",
      "Eliza Orzeszkowa 06-06-1841 23-05-1910\n",
      "Jack London 12-01-1876 22-11-1916\n",
      "Antoni Gołubiew 25-02-1907 27-06-1979\n",
      "George Orwell 25-06-1903 21-01-1950\n",
      "John Ronald Reuel Tolkien 03-01-1892 02-09-1973\n",
      "Tadeusz Dołęga-Mostowicz 10-08-1898 20-09-1939\n",
      "Vladimir Nabokov 22-04-1899 02-07-1977\n",
      "Adolf Hitler 20-04-1889 30-04-1945\n",
      "Aldous Huxley 26-07-1894 22-11-1963\n",
      "Franz Kafka 03-07-1883 03-06-1924\n",
      "Howard Phillips Lovecraft 20-08-1890 15-03-1937\n",
      "Karol Olgierd Borchardt 25-03-1905 20-05-1986\n",
      "Lew Tołstoj 09-09-1828 20-11-1910\n",
      "Janusz Zajdel 15-08-1938 19-07-1985\n",
      "Isaac Asimov 04-10-1919 06-04-1992\n",
      "Ilja Ilf 15-10-1897 13-04-1937\n",
      "Jewgienij Pietrow (pisarz) 13-12-1903 02-07-1942\n",
      "Gabriela Zapolska 30-03-1857 17-12-1921\n",
      "Clive Staples Lewis 29-11-1898 22-11-1963\n",
      "Lucy Maud Montgomery 30-11-1874 24-04-1942\n",
      "Alfred Szklarski 21-01-1912 09-04-1992\n",
      "Aleksander Majkowski 17-07-1876 10-02-1938\n",
      "Ian Fleming 28-05-1908 12-08-1964\n"
     ]
    },
    {
     "data": {
      "text/plain": [
       "[#<Author id: 3, name: \"Henryk\", surname: \"Sienkiewicz\", born: \"1846-05-05\", died: \"1916-11-05\", image_url: nil>, #<Author id: 4, name: \"Eliza\", surname: \"Orzeszkowa\", born: \"1841-06-06\", died: \"1910-05-23\", image_url: nil>, #<Author id: 8, name: \"Jack\", surname: \"London\", born: \"1876-01-12\", died: \"1916-11-22\", image_url: \"http://commons.wikimedia.org/wiki/Special:FilePath...\">, #<Author id: 11, name: \"Antoni\", surname: \"Gołubiew\", born: \"1907-02-25\", died: \"1979-06-27\", image_url: \"http://commons.wikimedia.org/wiki/Special:FilePath...\">, #<Author id: 14, name: \"George\", surname: \"Orwell\", born: \"1903-06-25\", died: \"1950-01-21\", image_url: \"http://commons.wikimedia.org/wiki/Special:FilePath...\">, #<Author id: 17, name: \"John Ronald Reuel\", surname: \"Tolkien\", born: \"1892-01-03\", died: \"1973-09-02\", image_url: \"http://commons.wikimedia.org/wiki/Special:FilePath...\">, #<Author id: 19, name: \"Tadeusz\", surname: \"Dołęga-Mostowicz\", born: \"1898-08-10\", died: \"1939-09-20\", image_url: \"http://commons.wikimedia.org/wiki/Special:FilePath...\">, #<Author id: 20, name: \"Vladimir\", surname: \"Nabokov\", born: \"1899-04-22\", died: \"1977-07-02\", image_url: \"http://commons.wikimedia.org/wiki/Special:FilePath...\">, #<Author id: 21, name: \"Adolf\", surname: \"Hitler\", born: \"1889-04-20\", died: \"1945-04-30\", image_url: \"http://commons.wikimedia.org/wiki/Special:FilePath...\">, #<Author id: 24, name: \"Aldous\", surname: \"Huxley\", born: \"1894-07-26\", died: \"1963-11-22\", image_url: \"http://commons.wikimedia.org/wiki/Special:FilePath...\">, #<Author id: 26, name: \"Franz\", surname: \"Kafka\", born: \"1883-07-03\", died: \"1924-06-03\", image_url: \"http://commons.wikimedia.org/wiki/Special:FilePath...\">, #<Author id: 28, name: \"Howard Phillips\", surname: \"Lovecraft\", born: \"1890-08-20\", died: \"1937-03-15\", image_url: \"http://commons.wikimedia.org/wiki/Special:FilePath...\">, #<Author id: 29, name: \"Karol Olgierd\", surname: \"Borchardt\", born: \"1905-03-25\", died: \"1986-05-20\", image_url: \"http://commons.wikimedia.org/wiki/Special:FilePath...\">, #<Author id: 30, name: \"Lew\", surname: \"Tołstoj\", born: \"1828-09-09\", died: \"1910-11-20\", image_url: \"http://commons.wikimedia.org/wiki/Special:FilePath...\">, #<Author id: 32, name: \"Janusz\", surname: \"Zajdel\", born: \"1938-08-15\", died: \"1985-07-19\", image_url: \"http://commons.wikimedia.org/wiki/Special:FilePath...\">, #<Author id: 34, name: \"Isaac\", surname: \"Asimov\", born: \"1919-10-04\", died: \"1992-04-06\", image_url: \"http://commons.wikimedia.org/wiki/Special:FilePath...\">, #<Author id: 35, name: \"Ilja\", surname: \"Ilf\", born: \"1897-10-15\", died: \"1937-04-13\", image_url: \"http://commons.wikimedia.org/wiki/Special:FilePath...\">, #<Author id: 36, name: \"Jewgienij Pietrow\", surname: \"(pisarz)\", born: \"1903-12-13\", died: \"1942-07-02\", image_url: \"http://commons.wikimedia.org/wiki/Special:FilePath...\">, #<Author id: 37, name: \"Gabriela\", surname: \"Zapolska\", born: \"1857-03-30\", died: \"1921-12-17\", image_url: \"http://commons.wikimedia.org/wiki/Special:FilePath...\">, #<Author id: 40, name: \"Clive Staples\", surname: \"Lewis\", born: \"1898-11-29\", died: \"1963-11-22\", image_url: \"http://commons.wikimedia.org/wiki/Special:FilePath...\">, #<Author id: 46, name: \"Lucy Maud\", surname: \"Montgomery\", born: \"1874-11-30\", died: \"1942-04-24\", image_url: \"http://commons.wikimedia.org/wiki/Special:FilePath...\">, #<Author id: 48, name: \"Alfred\", surname: \"Szklarski\", born: \"1912-01-21\", died: \"1992-04-09\", image_url: \"http://commons.wikimedia.org/wiki/Special:FilePath...\">, #<Author id: 52, name: \"Aleksander\", surname: \"Majkowski\", born: \"1876-07-17\", died: \"1938-02-10\", image_url: \"http://commons.wikimedia.org/wiki/Special:FilePath...\">, #<Author id: 53, name: \"Ian\", surname: \"Fleming\", born: \"1908-05-28\", died: \"1964-08-12\", image_url: \"http://commons.wikimedia.org/wiki/Special:FilePath...\">]"
      ]
     },
     "execution_count": 15,
     "metadata": {},
     "output_type": "execute_result"
    }
   ],
   "source": [
    "\n",
    "\n",
    "authors = Author.where(died: (Date.parse('1901-1-1')..Date.parse('2000-12-31')))\n",
    "authors.each do |author|\n",
    "  if author.born != nil && author.died != nil\n",
    "    puts \"#{author.name} #{author.surname} #{author.born.strftime(\"%d-%m-%Y\")} #{author.died.strftime(\"%d-%m-%Y\")}\"\n",
    "  end\n",
    "end"
   ]
  },
  {
   "cell_type": "markdown",
   "metadata": {},
   "source": [
    "### Zadanie 3"
   ]
  },
  {
   "cell_type": "markdown",
   "metadata": {},
   "source": [
    "Wyświetl 5 najmłodszych autorów, którzy posiadają przypisane zdjęcie."
   ]
  },
  {
   "cell_type": "code",
   "execution_count": 16,
   "metadata": {
    "collapsed": false
   },
   "outputs": [
    {
     "name": "stdout",
     "output_type": "stream",
     "text": [
      "Adam Zelga 1953-03-11\n",
      "Boris Akunin 1956-05-20\n",
      "Rafał A. Ziemkiewicz 1964-09-13\n",
      "J. K. Rowling 1965-07-31\n",
      "Andrzej Pilipiuk 1974-03-20\n"
     ]
    },
    {
     "data": {
      "text/plain": [
       "[#<Author id: 49, name: \"Adam\", surname: \"Zelga\", born: \"1953-03-11\", died: nil, image_url: nil>, #<Author id: 31, name: \"Boris\", surname: \"Akunin\", born: \"1956-05-20\", died: nil, image_url: \"http://commons.wikimedia.org/wiki/Special:FilePath...\">, #<Author id: 50, name: \"Rafał A.\", surname: \"Ziemkiewicz\", born: \"1964-09-13\", died: nil, image_url: \"http://commons.wikimedia.org/wiki/Special:FilePath...\">, #<Author id: 16, name: \"J. K.\", surname: \"Rowling\", born: \"1965-07-31\", died: nil, image_url: \"http://commons.wikimedia.org/wiki/Special:FilePath...\">, #<Author id: 41, name: \"Andrzej\", surname: \"Pilipiuk\", born: \"1974-03-20\", died: nil, image_url: \"http://commons.wikimedia.org/wiki/Special:FilePath...\">]"
      ]
     },
     "execution_count": 16,
     "metadata": {},
     "output_type": "execute_result"
    }
   ],
   "source": [
    "authors = Author.where(\"image_url is not null\")\n",
    "authors = Author.order(:born).last(5)\n",
    "authors.each do |author|\n",
    "  puts \"#{author.name} #{author.surname} #{author.born}\"\n",
    "end"
   ]
  },
  {
   "cell_type": "markdown",
   "metadata": {},
   "source": [
    "### Zadanie 4"
   ]
  },
  {
   "cell_type": "markdown",
   "metadata": {},
   "source": [
    "Zdefiniuj funkcję `display_book`, która będzie zwracała fragment kodu HTML obejmujący tytuł książki, rok jej wydania oraz\n",
    "przypisany obrazek.\n",
    "Wyświetl najwcześniej wydaną książkę."
   ]
  },
  {
   "cell_type": "code",
   "execution_count": 17,
   "metadata": {
    "collapsed": false
   },
   "outputs": [
    {
     "data": {
      "text/html": [
       "<h1>De revolutionibus orbium coelestium 1543</h1><img src='http://commons.wikimedia.org/wiki/Special:FilePath/Nikolaus_Kopernikus.jpg?width=300'/>"
      ],
      "text/plain": [
       "\"<h1>De revolutionibus orbium coelestium 1543</h1><img src='http://commons.wikimedia.org/wiki/Special:FilePath/Nikolaus_Kopernikus.jpg?width=300'/>\""
      ]
     },
     "execution_count": 17,
     "metadata": {},
     "output_type": "execute_result"
    }
   ],
   "source": [
    "def display_book(book)\n",
    "    \"<h1>#{book.title} #{book.published}</h1><img src='#{book.author.image_url}'/>\"\n",
    "end\n",
    "book = Book.where(\"published is not null and published != 0\").order(:published).first\n",
    "document = display_book(book)\n",
    "IRuby.html document"
   ]
  },
  {
   "cell_type": "markdown",
   "metadata": {},
   "source": [
    "### Zadanie 5"
   ]
  },
  {
   "cell_type": "markdown",
   "metadata": {},
   "source": [
    "Wyświetl wszystkie książki, które nie mają przypisanego roku wydania."
   ]
  },
  {
   "cell_type": "code",
   "execution_count": 18,
   "metadata": {
    "collapsed": false
   },
   "outputs": [
    {
     "name": "stdout",
     "output_type": "stream",
     "text": [
      "\"Orson Scott Card Végjáték (regény) \"\n",
      "\"William Szekspir Hamlet \"\n",
      "\"Iwan Turgieniew Ojcowie i dzieci 0\"\n"
     ]
    },
    {
     "data": {
      "text/plain": [
       "[#<Book id: 1, title: \"Végjáték (regény)\", language: nil, author_id: 6, published: nil, image_url: nil>, #<Book id: 10, title: \"Hamlet\", language: nil, author_id: 15, published: nil, image_url: \"http://commons.wikimedia.org/wiki/Special:FilePath...\">, #<Book id: 65, title: \"Ojcowie i dzieci\", language: nil, author_id: 43, published: 0, image_url: \"http://commons.wikimedia.org/wiki/Special:FilePath...\">]"
      ]
     },
     "execution_count": 18,
     "metadata": {},
     "output_type": "execute_result"
    }
   ],
   "source": [
    "books = Book.where(\"published is null or published == 0\")\n",
    "books.each do |book|\n",
    "  p  \"#{book.author.name} #{book.author.surname} #{book.title} #{book.published}\"\n",
    "end"
   ]
  },
  {
   "cell_type": "markdown",
   "metadata": {},
   "source": [
    "### Zadanie 6"
   ]
  },
  {
   "cell_type": "markdown",
   "metadata": {},
   "source": [
    "Zmodyfikuj funkcję `display_author` tak, aby wyświetlała również wszystkie książki napisane przez autora. Użyj znacznika `<ul>`.\n",
    "Korzystając z tej funkcji wyświetl opis Stanisława Lema."
   ]
  },
  {
   "cell_type": "code",
   "execution_count": 23,
   "metadata": {
    "collapsed": false
   },
   "outputs": [
    {
     "data": {
      "text/html": [
       "<h1>Stanisław Lem</h1><ul><li> Bajki robotów</li><li> Solaris (powieść)</li><li> Bezsenność (zbiór opowiadań)</li><li> Głos Pana</li><li> Inwazja z Aldebarana (zbiór opowiadań)</li><li> Katar (powieść)</li><li> Księga robotów</li><li> Maska (zbiór dzieł)</li><li> Niezwyciężony i inne opowiadania</li><li> Noc księżycowa</li><li> Pamiętnik znaleziony w wannie</li><li> Polowanie (zbiór opowiadań)</li><li> Powtórka (zbiór dzieł)</li><li> Pożytek ze smoka</li><li> Rasa drapieżców. Teksty ostatnie</li><li> Sezam i inne opowiadania</li><li> Summa technologiae</li><li> Wizja lokalna (powieść)</li></ul>"
      ],
      "text/plain": [
       "\"<h1>Stanisław Lem</h1><ul><li> Bajki robotów</li><li> Solaris (powieść)</li><li> Bezsenność (zbiór opowiadań)</li><li> Głos Pana</li><li> Inwazja z Aldebarana (zbiór opowiadań)</li><li> Katar (powieść)</li><li> Księga robotów</li><li> Maska (zbiór dzieł)</li><li> Niezwyciężony i inne opowiadania</li><li> Noc księżycowa</li><li> Pamiętnik znaleziony w wannie</li><li> Polowanie (zbiór opowiadań)</li><li> Powtórka (zbiór dzieł)</li><li> Pożytek ze smoka</li><li> Rasa drapieżców. Teksty ostatnie</li><li> Sezam i inne opowiadania</li><li> Summa technologiae</li><li> Wizja lokalna (powieść)</li></ul>\""
      ]
     },
     "execution_count": 23,
     "metadata": {},
     "output_type": "execute_result"
    }
   ],
   "source": [
    "def display_author(author)\n",
    "  author = Author.where(surname: author).first\n",
    "  books = author.books\n",
    "  html = \"<h1>#{author.name} #{author.surname}</h1>\"\n",
    "  html << \"<ul>\"\n",
    "  books.each do |book|\n",
    "    html << \"<li> #{book.title}</li>\"\n",
    "  end\n",
    "  html << \"</ul>\"\n",
    "end\n",
    "\n",
    "document = display_author(\"Lem\")\n",
    "IRuby.html document"
   ]
  },
  {
   "cell_type": "markdown",
   "metadata": {},
   "source": [
    "### Zadanie 7"
   ]
  },
  {
   "cell_type": "markdown",
   "metadata": {},
   "source": [
    "Wśród książek napisanych przez Lema wyświetl wszystkie, które zawieraja w tytule słowo \"zbiór\"."
   ]
  },
  {
   "cell_type": "code",
   "execution_count": 24,
   "metadata": {
    "collapsed": false
   },
   "outputs": [
    {
     "data": {
      "text/html": [
       "<h1>Stanisław Lem</h1><ul><li> Bezsenność (zbiór opowiadań)</li><li> Inwazja z Aldebarana (zbiór opowiadań)</li><li> Maska (zbiór dzieł)</li><li> Polowanie (zbiór opowiadań)</li><li> Powtórka (zbiór dzieł)</li></ul>"
      ],
      "text/plain": [
       "\"<h1>Stanisław Lem</h1><ul><li> Bezsenność (zbiór opowiadań)</li><li> Inwazja z Aldebarana (zbiór opowiadań)</li><li> Maska (zbiór dzieł)</li><li> Polowanie (zbiór opowiadań)</li><li> Powtórka (zbiór dzieł)</li></ul>\""
      ]
     },
     "execution_count": 24,
     "metadata": {},
     "output_type": "execute_result"
    }
   ],
   "source": [
    "def display_author(author)\n",
    "  author = Author.where(surname: author).first\n",
    "  books = author.books.where(\"title like '%zbiór%'\")\n",
    "  html = \"<h1>#{author.name} #{author.surname}</h1>\"\n",
    "  html << \"<ul>\"\n",
    "  books.each do |book|\n",
    "    html << \"<li> #{book.title}</li>\"\n",
    "  end\n",
    "  html << \"</ul>\"\n",
    "end\n",
    "\n",
    "document = display_author(\"Lem\")\n",
    "IRuby.html document"
   ]
  },
  {
   "cell_type": "markdown",
   "metadata": {},
   "source": [
    "### Zadanie 8"
   ]
  },
  {
   "cell_type": "markdown",
   "metadata": {},
   "source": [
    "Wśród książek napisanych przez Lema wyświetl te, które zostały wydane w roku jego śmierci."
   ]
  },
  {
   "cell_type": "code",
   "execution_count": 25,
   "metadata": {
    "collapsed": false
   },
   "outputs": [
    {
     "data": {
      "text/html": [
       "<h1>Stanisław Lem</h1><ul><li> Rasa drapieżców. Teksty ostatnie</li></ul>"
      ],
      "text/plain": [
       "\"<h1>Stanisław Lem</h1><ul><li> Rasa drapieżców. Teksty ostatnie</li></ul>\""
      ]
     },
     "execution_count": 25,
     "metadata": {},
     "output_type": "execute_result"
    }
   ],
   "source": [
    "def display_author(author)\n",
    "  author = Author.where(surname: author).first\n",
    "  died = author.died.year\n",
    "  books = author.books.where(\"published = ?\", died)\n",
    "  html = \"<h1>#{author.name} #{author.surname}</h1>\"\n",
    "  html << \"<ul>\"\n",
    "  books.each do |book|\n",
    "    html << \"<li> #{book.title}</li>\"\n",
    "  end\n",
    "  html << \"</ul>\"\n",
    "end\n",
    "\n",
    "document = display_author(\"Lem\")\n",
    "IRuby.html document"
   ]
  },
  {
   "cell_type": "markdown",
   "metadata": {},
   "source": [
    "### Zadanie 9"
   ]
  },
  {
   "cell_type": "markdown",
   "metadata": {},
   "source": [
    "Wyświetl wszystkie książki znajdujące się w bazie. Opis powinien zawierać tytuł, imię i nazwisko autora, rok wydania oraz \n",
    "obraz przedstawiający książkę (o ile istnieje)."
   ]
  },
  {
   "cell_type": "code",
   "execution_count": 27,
   "metadata": {
    "collapsed": false
   },
   "outputs": [
    {
     "data": {
      "text/html": [
       "<h1>Książki</h1><ul><li>Végjáték (regény)  - Orson Scott Card</li><li>Pani Jeziora (powieść) 1999 - Andrzej Sapkowski</li><li>Bellew Zawierucha 1912 - Jack London</li><li>Fałszywy trop (powieść) 1995 - Henning Mankell</li><li>Bajki robotów 1964 - Stanisław Lem</li><li>Bolesław Chrobry (powieść) 1947 - Antoni Gołubiew</li><li>De revolutionibus orbium coelestium 1543 - Mikołaj Kopernik</li><li>Dzieło Wielkiego Miłosierdzia 1922 - Maria Franciszka Kozłowska</li><li>Folwark zwierzęcy 1945 - George Orwell<img src='http://commons.wikimedia.org/wiki/Special:FilePath/Animalism_flag.svg?width=300'/></li><li>Hamlet  - William Szekspir<img src='http://commons.wikimedia.org/wiki/Special:FilePath/Hamlet_quarto_3rd.jpg?width=300'/></li><li>Harry Potter 1997 - J. K. Rowling<img src='http://commons.wikimedia.org/wiki/Special:FilePath/Harry_Potter_wordmark.svg?width=300'/></li><li>Hobbit, czyli tam i z powrotem 1937 - John Ronald Reuel Tolkien</li><li>Hrabia Monte Christo 1844 - Aleksander Dumas (ojciec)<img src='http://commons.wikimedia.org/wiki/Special:FilePath/Louis_Français-Dantès_sur_son_rocher.jpg?width=300'/></li><li>Kariera Nikodema Dyzmy 1932 - Tadeusz Dołęga-Mostowicz</li><li>Krzyżacy (powieść) 1900 - Henryk Sienkiewicz<img src='http://commons.wikimedia.org/wiki/Special:FilePath/PL_Henryk_Sienkiewicz-Krzyżacy_0005.jpeg?width=300'/></li><li>Lolita 1955 - Vladimir Nabokov</li><li>Mein Kampf 1925 - Adolf Hitler<img src='http://commons.wikimedia.org/wiki/Special:FilePath/Landsberg.Jail.jpg?width=300'/></li><li>Nad Niemnem 1888 - Eliza Orzeszkowa<img src='http://commons.wikimedia.org/wiki/Special:FilePath/Nad_Niemnem_-_manuscript.jpg?width=300'/></li><li>Niedokończone opowieści 1980 - Christopher Tolkien</li><li>Nowe Ateny 1745 - Benedykt Chmielowski<img src='http://commons.wikimedia.org/wiki/Special:FilePath/Nowe_ateny1.jpg?width=300'/></li><li>Nowy wspaniały świat 1932 - Aldous Huxley</li><li>Ogniem i mieczem 1884 - Henryk Sienkiewicz<img src='http://commons.wikimedia.org/wiki/Special:FilePath/Podbipieta.JPG?width=300'/></li><li>Ojciec Goriot 1835 - Honoré de Balzac<img src='http://commons.wikimedia.org/wiki/Special:FilePath/Father_Goriot_by_H._Daumier_(1842).JPG?width=300'/></li><li>Proces (powieść) 1925 - Franz Kafka<img src='http://commons.wikimedia.org/wiki/Special:FilePath/Kafka_Der_Prozess_1925.jpg?width=300'/></li><li>Psałterz Dawidów 1579 - Jan Kochanowski<img src='http://commons.wikimedia.org/wiki/Special:FilePath/Kochanowski_-_Psałterz_Dawidów_(1579).jpg?width=300'/></li><li>Quo vadis 1896 - Henryk Sienkiewicz<img src='http://commons.wikimedia.org/wiki/Special:FilePath/Rzym_popiersie_Sienkiewicza_w_kosciele_Domine_Quo_Vadis.JPG?width=300'/></li><li>Romeo i Julia 1597 - William Szekspir<img src='http://commons.wikimedia.org/wiki/Special:FilePath/Romeo_and_juliet_brown.jpg?width=300'/></li><li>Silmarillion 1977 - John Ronald Reuel Tolkien<img src='http://commons.wikimedia.org/wiki/Special:FilePath/Silmarrillion,_Just_under_the_Cover.jpg?width=300'/></li><li>Solaris (powieść) 1961 - Stanisław Lem<img src='http://commons.wikimedia.org/wiki/Special:FilePath/Solaris,_various_editions_02.jpg?width=300'/></li><li>Władca Pierścieni 1954 - John Ronald Reuel Tolkien<img src='http://commons.wikimedia.org/wiki/Special:FilePath/Unico_Anello.png?width=300'/></li><li>Zew Cthulhu (opowiadanie) 1928 - Howard Phillips Lovecraft</li><li>Znaczy Kapitan 1960 - Karol Olgierd Borchardt</li><li>Anna Karenina 1877 - Lew Tołstoj<img src='http://commons.wikimedia.org/wiki/Special:FilePath/AnnaKareninaTitle.jpg?width=300'/></li><li>Azazel (powieść) 1998 - Boris Akunin</li><li>Bezsenność (zbiór opowiadań) 1971 - Stanisław Lem</li><li>Cała prawda o planecie Ksi 1983 - Janusz Zajdel</li><li>Dekorator 1998 - Boris Akunin</li><li>Diamentowa karoca 2003 - Boris Akunin</li><li>Dives in misericordia 1980 - Jan Paweł II<img src='http://commons.wikimedia.org/wiki/Special:FilePath/John_paul_2_coa.svg?width=300'/></li><li>Droga na molo w Wigan 1937 - George Orwell</li><li>Druga Fundacja 1953 - Isaac Asimov</li><li>Dwanaście krzeseł 1928 - Ilja Ilf<img src='http://commons.wikimedia.org/wiki/Special:FilePath/Ostap_Bender_Monument_in_Kharkiv.jpg?width=300'/></li><li>Fundacja (powieść) 1951 - Isaac Asimov</li><li>Fundacja i Imperium 1952 - Isaac Asimov</li><li>Gambit turecki 1998 - Boris Akunin</li><li>Głos Pana 1968 - Stanisław Lem</li><li>Ich czworo 1907 - Gabriela Zapolska</li><li>Inwazja z Aldebarana (zbiór opowiadań) 1959 - Stanisław Lem</li><li>Kamienna małpa 2002 - Jeffery Deaver</li><li>Katar (powieść) 1976 - Stanisław Lem</li><li>Kochanek Śmierci 2001 - Boris Akunin</li><li>Kochanka Śmierci 2001 - Boris Akunin</li><li>Koronacja (powieść) 1999 - Boris Akunin</li><li>Kot w stanie czystym 1989 - Terry Pratchett</li><li>Koń i jego chłopiec 1954 - Clive Staples Lewis</li><li>Księga robotów 1961 - Stanisław Lem</li><li>Księgi narodu polskiego i pielgrzymstwa polskiego 1832 - Adam Mickiewicz<img src='http://commons.wikimedia.org/wiki/Special:FilePath/PL_Księgi_narodu_polskiego_i_pielgrzymstwa_polskiego_008.png?width=300'/></li><li>Kuzynki 2003 - Andrzej Pilipiuk</li><li>Lewa ręka ciemności 1969 - Ursula K. Le Guin</li><li>Lewiatan (powieść) 1998 - Boris Akunin</li><li>Mag (powieść J. Deavera) 2003 - Jeffery Deaver</li><li>Maska (zbiór dzieł) 1976 - Stanisław Lem</li><li>Niezwyciężony i inne opowiadania 1964 - Stanisław Lem</li><li>Noc księżycowa 1963 - Stanisław Lem</li><li>Ojcowie i dzieci 0 - Iwan Turgieniew<img src='http://commons.wikimedia.org/wiki/Special:FilePath/Otsy1880.jpg?width=300'/></li><li>Pamiętnik znaleziony w wannie 1961 - Stanisław Lem</li><li>Pieśń Lodu i Ognia 1996 - George R. R. Martin</li><li>Podróże z Herodotem 2004 - Ryszard Kapuściński</li><li>Polowanie (zbiór opowiadań) 1965 - Stanisław Lem</li><li>Powtórka (zbiór dzieł) 1979 - Stanisław Lem</li><li>Pożytek ze smoka 1993 - Stanisław Lem</li><li>Preludium Fundacji 1988 - Isaac Asimov</li><li>Radca stanu (powieść) 1998 - Boris Akunin</li><li>Rasa drapieżców. Teksty ostatnie 2006 - Stanisław Lem</li><li>Rilla ze Złotego Brzegu 1921 - Lucy Maud Montgomery</li><li>Sen nocy letniej 1600 - William Szekspir<img src='http://commons.wikimedia.org/wiki/Special:FilePath/MND_title_page.jpg?width=300'/></li><li>Sezam i inne opowiadania 1954 - Stanisław Lem</li><li>Slavorum apostoli 1985 - Jan Paweł II<img src='http://commons.wikimedia.org/wiki/Special:FilePath/John_paul_2_coa.svg?width=300'/></li><li>Summa technologiae 1964 - Stanisław Lem</li><li>Tam gdzie spadają anioły 1998 - Dorota Terakowska</li><li>Tomek u źródeł Amazonki 1967 - Alfred Szklarski</li><li>Tomek w Gran Chaco 1987 - Alfred Szklarski</li><li>Tomek w grobowcach faraonów 1994 - Alfred Szklarski</li><li>Ut unum sint 1995 - Jan Paweł II<img src='http://commons.wikimedia.org/wiki/Special:FilePath/John_paul_2_coa.svg?width=300'/></li><li>Veritatis splendor 1993 - Jan Paweł II<img src='http://commons.wikimedia.org/wiki/Special:FilePath/John_paul_2_coa.svg?width=300'/></li><li>Walc stulecia 1998 - Rafał A. Ziemkiewicz</li><li>Walet pikowy (powieść) 1998 - Boris Akunin</li><li>Wampir Lestat 1985 - Anne Rice</li><li>Wizja lokalna (powieść) 1982 - Stanisław Lem</li><li>Wojna i pokój 1865 - Lew Tołstoj<img src='http://commons.wikimedia.org/wiki/Special:FilePath/War-and-peace_1873.gif?width=300'/></li><li>Śmierć Achillesa 1998 - Boris Akunin</li><li>Życie i przygody Remusa 1938 - Aleksander Majkowski</li><li>Casino Royale (powieść) 1953 - Ian Fleming</li><li>Cień kata 1980 - Gene Wolfe</li><li>Czarnoksiężnik z Archipelagu 1968 - Ursula K. Le Guin</li><li>Czarownica z Portobello 2006 - Paulo Coelho</li><li>Czas patriotów (powieść) 1987 - Tom Clancy</li></ul>"
      ],
      "text/plain": [
       "\"<h1>Książki</h1><ul><li>Végjáték (regény)  - Orson Scott Card</li><li>Pani Jeziora (powieść) 1999 - Andrzej Sapkowski</li><li>Bellew Zawierucha 1912 - Jack London</li><li>Fałszywy trop (powieść) 1995 - Henning Mankell</li><li>Bajki robotów 1964 - Stanisław Lem</li><li>Bolesław Chrobry (powieść) 1947 - Antoni Gołubiew</li><li>De revolutionibus orbium coelestium 1543 - Mikołaj Kopernik</li><li>Dzieło Wielkiego Miłosierdzia 1922 - Maria Franciszka Kozłowska</li><li>Folwark zwierzęcy 1945 - George Orwell<img src='http://commons.wikimedia.org/wiki/Special:FilePath/Animalism_flag.svg?width=300'/></li><li>Hamlet  - William Szekspir<img src='http://commons.wikimedia.org/wiki/Special:FilePath/Hamlet_quarto_3rd.jpg?width=300'/></li><li>Harry Potter 1997 - J. K. Rowling<img src='http://commons.wikimedia.org/wiki/Special:FilePath/Harry_Potter_wordmark.svg?width=300'/></li><li>Hobbit, czyli tam i z powrotem 1937 - John Ronald Reuel Tolkien</li><li>Hrabia Monte Christo 1844 - Aleksander Dumas (ojciec)<img src='http://commons.wikimedia.org/wiki/Special:FilePath/Louis_Français-Dantès_sur_son_rocher.jpg?width=300'/></li><li>Kariera Nikodema Dyzmy 1932 - Tadeusz Dołęga-Mostowicz</li><li>Krzyżacy (powieść) 1900 - Henryk Sienkiewicz<img src='http://commons.wikimedia.org/wiki/Special:FilePath/PL_Henryk_Sienkiewicz-Krzyżacy_0005.jpeg?width=300'/></li><li>Lolita 1955 - Vladimir Nabokov</li><li>Mein Kampf 1925 - Adolf Hitler<img src='http://commons.wikimedia.org/wiki/Special:FilePath/Landsberg.Jail.jpg?width=300'/></li><li>Nad Niemnem 1888 - Eliza Orzeszkowa<img src='http://commons.wikimedia.org/wiki/Special:FilePath/Nad_Niemnem_-_manuscript.jpg?width=300'/></li><li>Niedokończone opowieści 1980 - Christopher Tolkien</li><li>Nowe Ateny 1745 - Benedykt Chmielowski<img src='http://commons.wikimedia.org/wiki/Special:FilePath/Nowe_ateny1.jpg?width=300'/></li><li>Nowy wspaniały świat 1932 - Aldous Huxley</li><li>Ogniem i mieczem 1884 - Henryk Sienkiewicz<img src='http://commons.wikimedia.org/wiki/Special:FilePath/Podbipieta.JPG?width=300'/></li><li>Ojciec Goriot 1835 - Honoré de Balzac<img src='http://commons.wikimedia.org/wiki/Special:FilePath/Father_Goriot_by_H._Daumier_(1842).JPG?width=300'/></li><li>Proces (powieść) 1925 - Franz Kafka<img src='http://commons.wikimedia.org/wiki/Special:FilePath/Kafka_Der_Prozess_1925.jpg?width=300'/></li><li>Psałterz Dawidów 1579 - Jan Kochanowski<img src='http://commons.wikimedia.org/wiki/Special:FilePath/Kochanowski_-_Psałterz_Dawidów_(1579).jpg?width=300'/></li><li>Quo vadis 1896 - Henryk Sienkiewicz<img src='http://commons.wikimedia.org/wiki/Special:FilePath/Rzym_popiersie_Sienkiewicza_w_kosciele_Domine_Quo_Vadis.JPG?width=300'/></li><li>Romeo i Julia 1597 - William Szekspir<img src='http://commons.wikimedia.org/wiki/Special:FilePath/Romeo_and_juliet_brown.jpg?width=300'/></li><li>Silmarillion 1977 - John Ronald Reuel Tolkien<img src='http://commons.wikimedia.org/wiki/Special:FilePath/Silmarrillion,_Just_under_the_Cover.jpg?width=300'/></li><li>Solaris (powieść) 1961 - Stanisław Lem<img src='http://commons.wikimedia.org/wiki/Special:FilePath/Solaris,_various_editions_02.jpg?width=300'/></li><li>Władca Pierścieni 1954 - John Ronald Reuel Tolkien<img src='http://commons.wikimedia.org/wiki/Special:FilePath/Unico_Anello.png?width=300'/></li><li>Zew Cthulhu (opowiadanie) 1928 - Howard Phillips Lovecraft</li><li>Znaczy Kapitan 1960 - Karol Olgierd Borchardt</li><li>Anna Karenina 1877 - Lew Tołstoj<img src='http://commons.wikimedia.org/wiki/Special:FilePath/AnnaKareninaTitle.jpg?width=300'/></li><li>Azazel (powieść) 1998 - Boris Akunin</li><li>Bezsenność (zbiór opowiadań) 1971 - Stanisław Lem</li><li>Cała prawda o planecie Ksi 1983 - Janusz Zajdel</li><li>Dekorator 1998 - Boris Akunin</li><li>Diamentowa karoca 2003 - Boris Akunin</li><li>Dives in misericordia 1980 - Jan Paweł II<img src='http://commons.wikimedia.org/wiki/Special:FilePath/John_paul_2_coa.svg?width=300'/></li><li>Droga na molo w Wigan 1937 - George Orwell</li><li>Druga Fundacja 1953 - Isaac Asimov</li><li>Dwanaście krzeseł 1928 - Ilja Ilf<img src='http://commons.wikimedia.org/wiki/Special:FilePath/Ostap_Bender_Monument_in_Kharkiv.jpg?width=300'/></li><li>Fundacja (powieść) 1951 - Isaac Asimov</li><li>Fundacja i Imperium 1952 - Isaac Asimov</li><li>Gambit turecki 1998 - Boris Akunin</li><li>Głos Pana 1968 - Stanisław Lem</li><li>Ich czworo 1907 - Gabriela Zapolska</li><li>Inwazja z Aldebarana (zbiór opowiadań) 1959 - Stanisław Lem</li><li>Kamienna małpa 2002 - Jeffery Deaver</li><li>Katar (powieść) 1976 - Stanisław Lem</li><li>Kochanek Śmierci 2001 - Boris Akunin</li><li>Kochanka Śmierci 2001 - Boris Akunin</li><li>Koronacja (powieść) 1999 - Boris Akunin</li><li>Kot w stanie czystym 1989 - Terry Pratchett</li><li>Koń i jego chłopiec 1954 - Clive Staples Lewis</li><li>Księga robotów 1961 - Stanisław Lem</li><li>Księgi narodu polskiego i pielgrzymstwa polskiego 1832 - Adam Mickiewicz<img src='http://commons.wikimedia.org/wiki/Special:FilePath/PL_Księgi_narodu_polskiego_i_pielgrzymstwa_polskiego_008.png?width=300'/></li><li>Kuzynki 2003 - Andrzej Pilipiuk</li><li>Lewa ręka ciemności 1969 - Ursula K. Le Guin</li><li>Lewiatan (powieść) 1998 - Boris Akunin</li><li>Mag (powieść J. Deavera) 2003 - Jeffery Deaver</li><li>Maska (zbiór dzieł) 1976 - Stanisław Lem</li><li>Niezwyciężony i inne opowiadania 1964 - Stanisław Lem</li><li>Noc księżycowa 1963 - Stanisław Lem</li><li>Ojcowie i dzieci 0 - Iwan Turgieniew<img src='http://commons.wikimedia.org/wiki/Special:FilePath/Otsy1880.jpg?width=300'/></li><li>Pamiętnik znaleziony w wannie 1961 - Stanisław Lem</li><li>Pieśń Lodu i Ognia 1996 - George R. R. Martin</li><li>Podróże z Herodotem 2004 - Ryszard Kapuściński</li><li>Polowanie (zbiór opowiadań) 1965 - Stanisław Lem</li><li>Powtórka (zbiór dzieł) 1979 - Stanisław Lem</li><li>Pożytek ze smoka 1993 - Stanisław Lem</li><li>Preludium Fundacji 1988 - Isaac Asimov</li><li>Radca stanu (powieść) 1998 - Boris Akunin</li><li>Rasa drapieżców. Teksty ostatnie 2006 - Stanisław Lem</li><li>Rilla ze Złotego Brzegu 1921 - Lucy Maud Montgomery</li><li>Sen nocy letniej 1600 - William Szekspir<img src='http://commons.wikimedia.org/wiki/Special:FilePath/MND_title_page.jpg?width=300'/></li><li>Sezam i inne opowiadania 1954 - Stanisław Lem</li><li>Slavorum apostoli 1985 - Jan Paweł II<img src='http://commons.wikimedia.org/wiki/Special:FilePath/John_paul_2_coa.svg?width=300'/></li><li>Summa technologiae 1964 - Stanisław Lem</li><li>Tam gdzie spadają anioły 1998 - Dorota Terakowska</li><li>Tomek u źródeł Amazonki 1967 - Alfred Szklarski</li><li>Tomek w Gran Chaco 1987 - Alfred Szklarski</li><li>Tomek w grobowcach faraonów 1994 - Alfred Szklarski</li><li>Ut unum sint 1995 - Jan Paweł II<img src='http://commons.wikimedia.org/wiki/Special:FilePath/John_paul_2_coa.svg?width=300'/></li><li>Veritatis splendor 1993 - Jan Paweł II<img src='http://commons.wikimedia.org/wiki/Special:FilePath/John_paul_2_coa.svg?width=300'/></li><li>Walc stulecia 1998 - Rafał A. Ziemkiewicz</li><li>Walet pikowy (powieść) 1998 - Boris Akunin</li><li>Wampir Lestat 1985 - Anne Rice</li><li>Wizja lokalna (powieść) 1982 - Stanisław Lem</li><li>Wojna i pokój 1865 - Lew Tołstoj<img src='http://commons.wikimedia.org/wiki/Special:FilePath/War-and-peace_1873.gif?width=300'/></li><li>Śmierć Achillesa 1998 - Boris Akunin</li><li>Życie i przygody Remusa 1938 - Aleksander Majkowski</li><li>Casino Royale (powieść) 1953 - Ian Fleming</li><li>Cień kata 1980 - Gene Wolfe</li><li>Czarnoksiężnik z Archipelagu 1968 - Ursula K. Le Guin</li><li>Czarownica z Portobello 2006 - Paulo Coelho</li><li>Czas patriotów (powieść) 1987 - Tom Clancy</li></ul>\""
      ]
     },
     "execution_count": 27,
     "metadata": {},
     "output_type": "execute_result"
    }
   ],
   "source": [
    "def display_books()\n",
    "  books = Book.all\n",
    "  list = \"<h1>Książki</h1><ul>\"\n",
    "  books.each do |book|\n",
    "    list << \"<li>\"\n",
    "    list << \"#{book.title} #{book.published} - #{book.author.name} #{book.author.surname}\"\n",
    "    if (book.image_url != nil)\n",
    "      list << \"<img src='#{book.image_url}'/>\"\n",
    "    end\n",
    "    list << \"</li>\"\n",
    "  end\n",
    "  list << \"</ul>\"\n",
    "end \n",
    "\n",
    "document = display_books()\n",
    "IRuby.html document\n",
    "  "
   ]
  },
  {
   "cell_type": "markdown",
   "metadata": {},
   "source": [
    "### Zadanie 10"
   ]
  },
  {
   "cell_type": "markdown",
   "metadata": {},
   "source": [
    "Wyświetl wszystkich autorów znajdujących się w bazie wraz z opisem zawierającym ich zdjęcie, datę urodzin i śmierci oraz spis \n",
    "opublikowanych książek. Pamiętaj o odpowiednim sformatowaniu dat oraz o tym, że nie wszyscy autorzy mają przypisane wszystkie\n",
    "informacje."
   ]
  },
  {
   "cell_type": "code",
   "execution_count": 32,
   "metadata": {
    "collapsed": false
   },
   "outputs": [
    {
     "data": {
      "text/html": [
       "[#<Author id: 2, name: \"Juliusz\", surname: \"Słowacki\", born: \"1809-09-04\", died: \"1849-04-03\", image_url: nil>, #<Author id: 3, name: \"Henryk\", surname: \"Sienkiewicz\", born: \"1846-05-05\", died: \"1916-11-05\", image_url: nil>, #<Author id: 4, name: \"Eliza\", surname: \"Orzeszkowa\", born: \"1841-06-06\", died: \"1910-05-23\", image_url: nil>, #<Author id: 5, name: \"Adam\", surname: \"Mickiewicz\", born: \"1798-12-24\", died: \"1855-11-26\", image_url: nil>, #<Author id: 6, name: \"Orson Scott\", surname: \"Card\", born: \"1951-08-24\", died: nil, image_url: \"http://commons.wikimedia.org/wiki/Special:FilePath...\">, #<Author id: 7, name: \"Andrzej\", surname: \"Sapkowski\", born: \"1948-06-21\", died: nil, image_url: \"http://commons.wikimedia.org/wiki/Special:FilePath...\">, #<Author id: 8, name: \"Jack\", surname: \"London\", born: \"1876-01-12\", died: \"1916-11-22\", image_url: \"http://commons.wikimedia.org/wiki/Special:FilePath...\">, #<Author id: 9, name: \"Henning\", surname: \"Mankell\", born: \"1948-02-03\", died: nil, image_url: \"http://commons.wikimedia.org/wiki/Special:FilePath...\">, #<Author id: 10, name: \"Stanisław\", surname: \"Lem\", born: \"1921-09-12\", died: \"2006-03-27\", image_url: \"http://commons.wikimedia.org/wiki/Special:FilePath...\">, #<Author id: 11, name: \"Antoni\", surname: \"Gołubiew\", born: \"1907-02-25\", died: \"1979-06-27\", image_url: \"http://commons.wikimedia.org/wiki/Special:FilePath...\">, #<Author id: 12, name: \"Mikołaj\", surname: \"Kopernik\", born: \"1473-02-19\", died: \"1543-05-24\", image_url: \"http://commons.wikimedia.org/wiki/Special:FilePath...\">, #<Author id: 13, name: \"Maria Franciszka\", surname: \"Kozłowska\", born: \"1862-05-27\", died: nil, image_url: \"http://commons.wikimedia.org/wiki/Special:FilePath...\">, #<Author id: 14, name: \"George\", surname: \"Orwell\", born: \"1903-06-25\", died: \"1950-01-21\", image_url: \"http://commons.wikimedia.org/wiki/Special:FilePath...\">, #<Author id: 15, name: \"William\", surname: \"Szekspir\", born: \"1564-04-23\", died: \"1616-05-03\", image_url: \"http://commons.wikimedia.org/wiki/Special:FilePath...\">, #<Author id: 16, name: \"J. K.\", surname: \"Rowling\", born: \"1965-07-31\", died: nil, image_url: \"http://commons.wikimedia.org/wiki/Special:FilePath...\">, #<Author id: 17, name: \"John Ronald Reuel\", surname: \"Tolkien\", born: \"1892-01-03\", died: \"1973-09-02\", image_url: \"http://commons.wikimedia.org/wiki/Special:FilePath...\">, #<Author id: 18, name: \"Aleksander Dumas\", surname: \"(ojciec)\", born: \"1802-07-24\", died: \"1870-12-05\", image_url: \"http://commons.wikimedia.org/wiki/Special:FilePath...\">, #<Author id: 19, name: \"Tadeusz\", surname: \"Dołęga-Mostowicz\", born: \"1898-08-10\", died: \"1939-09-20\", image_url: \"http://commons.wikimedia.org/wiki/Special:FilePath...\">, #<Author id: 20, name: \"Vladimir\", surname: \"Nabokov\", born: \"1899-04-22\", died: \"1977-07-02\", image_url: \"http://commons.wikimedia.org/wiki/Special:FilePath...\">, #<Author id: 21, name: \"Adolf\", surname: \"Hitler\", born: \"1889-04-20\", died: \"1945-04-30\", image_url: \"http://commons.wikimedia.org/wiki/Special:FilePath...\">, #<Author id: 22, name: \"Christopher\", surname: \"Tolkien\", born: \"1924-11-21\", died: nil, image_url: nil>, #<Author id: 23, name: \"Benedykt\", surname: \"Chmielowski\", born: \"1700-03-20\", died: \"1763-04-07\", image_url: \"http://commons.wikimedia.org/wiki/Special:FilePath...\">, #<Author id: 24, name: \"Aldous\", surname: \"Huxley\", born: \"1894-07-26\", died: \"1963-11-22\", image_url: \"http://commons.wikimedia.org/wiki/Special:FilePath...\">, #<Author id: 25, name: \"Honoré de\", surname: \"Balzac\", born: \"1799-05-20\", died: \"1850-08-18\", image_url: \"http://commons.wikimedia.org/wiki/Special:FilePath...\">, #<Author id: 26, name: \"Franz\", surname: \"Kafka\", born: \"1883-07-03\", died: \"1924-06-03\", image_url: \"http://commons.wikimedia.org/wiki/Special:FilePath...\">, #<Author id: 27, name: \"Jan\", surname: \"Kochanowski\", born: nil, died: \"1584-08-22\", image_url: \"http://commons.wikimedia.org/wiki/Special:FilePath...\">, #<Author id: 28, name: \"Howard Phillips\", surname: \"Lovecraft\", born: \"1890-08-20\", died: \"1937-03-15\", image_url: \"http://commons.wikimedia.org/wiki/Special:FilePath...\">, #<Author id: 29, name: \"Karol Olgierd\", surname: \"Borchardt\", born: \"1905-03-25\", died: \"1986-05-20\", image_url: \"http://commons.wikimedia.org/wiki/Special:FilePath...\">, #<Author id: 30, name: \"Lew\", surname: \"Tołstoj\", born: \"1828-09-09\", died: \"1910-11-20\", image_url: \"http://commons.wikimedia.org/wiki/Special:FilePath...\">, #<Author id: 31, name: \"Boris\", surname: \"Akunin\", born: \"1956-05-20\", died: nil, image_url: \"http://commons.wikimedia.org/wiki/Special:FilePath...\">, #<Author id: 32, name: \"Janusz\", surname: \"Zajdel\", born: \"1938-08-15\", died: \"1985-07-19\", image_url: \"http://commons.wikimedia.org/wiki/Special:FilePath...\">, #<Author id: 33, name: \"Jan Paweł\", surname: \"II\", born: \"1920-05-18\", died: \"2005-04-02\", image_url: \"http://commons.wikimedia.org/wiki/Special:FilePath...\">, #<Author id: 34, name: \"Isaac\", surname: \"Asimov\", born: \"1919-10-04\", died: \"1992-04-06\", image_url: \"http://commons.wikimedia.org/wiki/Special:FilePath...\">, #<Author id: 35, name: \"Ilja\", surname: \"Ilf\", born: \"1897-10-15\", died: \"1937-04-13\", image_url: \"http://commons.wikimedia.org/wiki/Special:FilePath...\">, #<Author id: 36, name: \"Jewgienij Pietrow\", surname: \"(pisarz)\", born: \"1903-12-13\", died: \"1942-07-02\", image_url: \"http://commons.wikimedia.org/wiki/Special:FilePath...\">, #<Author id: 37, name: \"Gabriela\", surname: \"Zapolska\", born: \"1857-03-30\", died: \"1921-12-17\", image_url: \"http://commons.wikimedia.org/wiki/Special:FilePath...\">, #<Author id: 38, name: \"Jeffery\", surname: \"Deaver\", born: \"1950-05-06\", died: nil, image_url: \"http://commons.wikimedia.org/wiki/Special:FilePath...\">, #<Author id: 39, name: \"Terry\", surname: \"Pratchett\", born: \"1948-04-28\", died: nil, image_url: \"http://commons.wikimedia.org/wiki/Special:FilePath...\">, #<Author id: 40, name: \"Clive Staples\", surname: \"Lewis\", born: \"1898-11-29\", died: \"1963-11-22\", image_url: \"http://commons.wikimedia.org/wiki/Special:FilePath...\">, #<Author id: 41, name: \"Andrzej\", surname: \"Pilipiuk\", born: \"1974-03-20\", died: nil, image_url: \"http://commons.wikimedia.org/wiki/Special:FilePath...\">, #<Author id: 42, name: \"Ursula K. Le\", surname: \"Guin\", born: \"1929-10-21\", died: nil, image_url: \"http://commons.wikimedia.org/wiki/Special:FilePath...\">, #<Author id: 43, name: \"Iwan\", surname: \"Turgieniew\", born: \"1818-11-09\", died: \"1883-09-03\", image_url: \"http://commons.wikimedia.org/wiki/Special:FilePath...\">, #<Author id: 44, name: \"George R. R.\", surname: \"Martin\", born: \"1948-09-20\", died: nil, image_url: \"http://commons.wikimedia.org/wiki/Special:FilePath...\">, #<Author id: 45, name: \"Ryszard\", surname: \"Kapuściński\", born: \"1932-03-04\", died: \"2007-01-23\", image_url: \"http://commons.wikimedia.org/wiki/Special:FilePath...\">, #<Author id: 46, name: \"Lucy Maud\", surname: \"Montgomery\", born: \"1874-11-30\", died: \"1942-04-24\", image_url: \"http://commons.wikimedia.org/wiki/Special:FilePath...\">, #<Author id: 47, name: \"Dorota\", surname: \"Terakowska\", born: \"1938-08-30\", died: \"2004-01-04\", image_url: \"http://commons.wikimedia.org/wiki/Special:FilePath...\">, #<Author id: 48, name: \"Alfred\", surname: \"Szklarski\", born: \"1912-01-21\", died: \"1992-04-09\", image_url: \"http://commons.wikimedia.org/wiki/Special:FilePath...\">, #<Author id: 49, name: \"Adam\", surname: \"Zelga\", born: \"1953-03-11\", died: nil, image_url: nil>, #<Author id: 50, name: \"Rafał A.\", surname: \"Ziemkiewicz\", born: \"1964-09-13\", died: nil, image_url: \"http://commons.wikimedia.org/wiki/Special:FilePath...\">, #<Author id: 51, name: \"Anne\", surname: \"Rice\", born: \"1941-10-04\", died: nil, image_url: \"http://commons.wikimedia.org/wiki/Special:FilePath...\">, #<Author id: 52, name: \"Aleksander\", surname: \"Majkowski\", born: \"1876-07-17\", died: \"1938-02-10\", image_url: \"http://commons.wikimedia.org/wiki/Special:FilePath...\">, #<Author id: 53, name: \"Ian\", surname: \"Fleming\", born: \"1908-05-28\", died: \"1964-08-12\", image_url: \"http://commons.wikimedia.org/wiki/Special:FilePath...\">, #<Author id: 54, name: \"Gene\", surname: \"Wolfe\", born: \"1931-05-07\", died: nil, image_url: \"http://commons.wikimedia.org/wiki/Special:FilePath...\">, #<Author id: 55, name: \"Paulo\", surname: \"Coelho\", born: \"1947-08-24\", died: nil, image_url: \"http://commons.wikimedia.org/wiki/Special:FilePath...\">, #<Author id: 56, name: \"Tom\", surname: \"Clancy\", born: \"1947-04-12\", died: \"2013-10-01\", image_url: \"http://commons.wikimedia.org/wiki/Special:FilePath...\">]"
      ],
      "text/plain": [
       "[#<Author id: 2, name: \"Juliusz\", surname: \"Słowacki\", born: \"1809-09-04\", died: \"1849-04-03\", image_url: nil>, #<Author id: 3, name: \"Henryk\", surname: \"Sienkiewicz\", born: \"1846-05-05\", died: \"1916-11-05\", image_url: nil>, #<Author id: 4, name: \"Eliza\", surname: \"Orzeszkowa\", born: \"1841-06-06\", died: \"1910-05-23\", image_url: nil>, #<Author id: 5, name: \"Adam\", surname: \"Mickiewicz\", born: \"1798-12-24\", died: \"1855-11-26\", image_url: nil>, #<Author id: 6, name: \"Orson Scott\", surname: \"Card\", born: \"1951-08-24\", died: nil, image_url: \"http://commons.wikimedia.org/wiki/Special:FilePath...\">, #<Author id: 7, name: \"Andrzej\", surname: \"Sapkowski\", born: \"1948-06-21\", died: nil, image_url: \"http://commons.wikimedia.org/wiki/Special:FilePath...\">, #<Author id: 8, name: \"Jack\", surname: \"London\", born: \"1876-01-12\", died: \"1916-11-22\", image_url: \"http://commons.wikimedia.org/wiki/Special:FilePath...\">, #<Author id: 9, name: \"Henning\", surname: \"Mankell\", born: \"1948-02-03\", died: nil, image_url: \"http://commons.wikimedia.org/wiki/Special:FilePath...\">, #<Author id: 10, name: \"Stanisław\", surname: \"Lem\", born: \"1921-09-12\", died: \"2006-03-27\", image_url: \"http://commons.wikimedia.org/wiki/Special:FilePath...\">, #<Author id: 11, name: \"Antoni\", surname: \"Gołubiew\", born: \"1907-02-25\", died: \"1979-06-27\", image_url: \"http://commons.wikimedia.org/wiki/Special:FilePath...\">, #<Author id: 12, name: \"Mikołaj\", surname: \"Kopernik\", born: \"1473-02-19\", died: \"1543-05-24\", image_url: \"http://commons.wikimedia.org/wiki/Special:FilePath...\">, #<Author id: 13, name: \"Maria Franciszka\", surname: \"Kozłowska\", born: \"1862-05-27\", died: nil, image_url: \"http://commons.wikimedia.org/wiki/Special:FilePath...\">, #<Author id: 14, name: \"George\", surname: \"Orwell\", born: \"1903-06-25\", died: \"1950-01-21\", image_url: \"http://commons.wikimedia.org/wiki/Special:FilePath...\">, #<Author id: 15, name: \"William\", surname: \"Szekspir\", born: \"1564-04-23\", died: \"1616-05-03\", image_url: \"http://commons.wikimedia.org/wiki/Special:FilePath...\">, #<Author id: 16, name: \"J. K.\", surname: \"Rowling\", born: \"1965-07-31\", died: nil, image_url: \"http://commons.wikimedia.org/wiki/Special:FilePath...\">, #<Author id: 17, name: \"John Ronald Reuel\", surname: \"Tolkien\", born: \"1892-01-03\", died: \"1973-09-02\", image_url: \"http://commons.wikimedia.org/wiki/Special:FilePath...\">, #<Author id: 18, name: \"Aleksander Dumas\", surname: \"(ojciec)\", born: \"1802-07-24\", died: \"1870-12-05\", image_url: \"http://commons.wikimedia.org/wiki/Special:FilePath...\">, #<Author id: 19, name: \"Tadeusz\", surname: \"Dołęga-Mostowicz\", born: \"1898-08-10\", died: \"1939-09-20\", image_url: \"http://commons.wikimedia.org/wiki/Special:FilePath...\">, #<Author id: 20, name: \"Vladimir\", surname: \"Nabokov\", born: \"1899-04-22\", died: \"1977-07-02\", image_url: \"http://commons.wikimedia.org/wiki/Special:FilePath...\">, #<Author id: 21, name: \"Adolf\", surname: \"Hitler\", born: \"1889-04-20\", died: \"1945-04-30\", image_url: \"http://commons.wikimedia.org/wiki/Special:FilePath...\">, #<Author id: 22, name: \"Christopher\", surname: \"Tolkien\", born: \"1924-11-21\", died: nil, image_url: nil>, #<Author id: 23, name: \"Benedykt\", surname: \"Chmielowski\", born: \"1700-03-20\", died: \"1763-04-07\", image_url: \"http://commons.wikimedia.org/wiki/Special:FilePath...\">, #<Author id: 24, name: \"Aldous\", surname: \"Huxley\", born: \"1894-07-26\", died: \"1963-11-22\", image_url: \"http://commons.wikimedia.org/wiki/Special:FilePath...\">, #<Author id: 25, name: \"Honoré de\", surname: \"Balzac\", born: \"1799-05-20\", died: \"1850-08-18\", image_url: \"http://commons.wikimedia.org/wiki/Special:FilePath...\">, #<Author id: 26, name: \"Franz\", surname: \"Kafka\", born: \"1883-07-03\", died: \"1924-06-03\", image_url: \"http://commons.wikimedia.org/wiki/Special:FilePath...\">, #<Author id: 27, name: \"Jan\", surname: \"Kochanowski\", born: nil, died: \"1584-08-22\", image_url: \"http://commons.wikimedia.org/wiki/Special:FilePath...\">, #<Author id: 28, name: \"Howard Phillips\", surname: \"Lovecraft\", born: \"1890-08-20\", died: \"1937-03-15\", image_url: \"http://commons.wikimedia.org/wiki/Special:FilePath...\">, #<Author id: 29, name: \"Karol Olgierd\", surname: \"Borchardt\", born: \"1905-03-25\", died: \"1986-05-20\", image_url: \"http://commons.wikimedia.org/wiki/Special:FilePath...\">, #<Author id: 30, name: \"Lew\", surname: \"Tołstoj\", born: \"1828-09-09\", died: \"1910-11-20\", image_url: \"http://commons.wikimedia.org/wiki/Special:FilePath...\">, #<Author id: 31, name: \"Boris\", surname: \"Akunin\", born: \"1956-05-20\", died: nil, image_url: \"http://commons.wikimedia.org/wiki/Special:FilePath...\">, #<Author id: 32, name: \"Janusz\", surname: \"Zajdel\", born: \"1938-08-15\", died: \"1985-07-19\", image_url: \"http://commons.wikimedia.org/wiki/Special:FilePath...\">, #<Author id: 33, name: \"Jan Paweł\", surname: \"II\", born: \"1920-05-18\", died: \"2005-04-02\", image_url: \"http://commons.wikimedia.org/wiki/Special:FilePath...\">, #<Author id: 34, name: \"Isaac\", surname: \"Asimov\", born: \"1919-10-04\", died: \"1992-04-06\", image_url: \"http://commons.wikimedia.org/wiki/Special:FilePath...\">, #<Author id: 35, name: \"Ilja\", surname: \"Ilf\", born: \"1897-10-15\", died: \"1937-04-13\", image_url: \"http://commons.wikimedia.org/wiki/Special:FilePath...\">, #<Author id: 36, name: \"Jewgienij Pietrow\", surname: \"(pisarz)\", born: \"1903-12-13\", died: \"1942-07-02\", image_url: \"http://commons.wikimedia.org/wiki/Special:FilePath...\">, #<Author id: 37, name: \"Gabriela\", surname: \"Zapolska\", born: \"1857-03-30\", died: \"1921-12-17\", image_url: \"http://commons.wikimedia.org/wiki/Special:FilePath...\">, #<Author id: 38, name: \"Jeffery\", surname: \"Deaver\", born: \"1950-05-06\", died: nil, image_url: \"http://commons.wikimedia.org/wiki/Special:FilePath...\">, #<Author id: 39, name: \"Terry\", surname: \"Pratchett\", born: \"1948-04-28\", died: nil, image_url: \"http://commons.wikimedia.org/wiki/Special:FilePath...\">, #<Author id: 40, name: \"Clive Staples\", surname: \"Lewis\", born: \"1898-11-29\", died: \"1963-11-22\", image_url: \"http://commons.wikimedia.org/wiki/Special:FilePath...\">, #<Author id: 41, name: \"Andrzej\", surname: \"Pilipiuk\", born: \"1974-03-20\", died: nil, image_url: \"http://commons.wikimedia.org/wiki/Special:FilePath...\">, #<Author id: 42, name: \"Ursula K. Le\", surname: \"Guin\", born: \"1929-10-21\", died: nil, image_url: \"http://commons.wikimedia.org/wiki/Special:FilePath...\">, #<Author id: 43, name: \"Iwan\", surname: \"Turgieniew\", born: \"1818-11-09\", died: \"1883-09-03\", image_url: \"http://commons.wikimedia.org/wiki/Special:FilePath...\">, #<Author id: 44, name: \"George R. R.\", surname: \"Martin\", born: \"1948-09-20\", died: nil, image_url: \"http://commons.wikimedia.org/wiki/Special:FilePath...\">, #<Author id: 45, name: \"Ryszard\", surname: \"Kapuściński\", born: \"1932-03-04\", died: \"2007-01-23\", image_url: \"http://commons.wikimedia.org/wiki/Special:FilePath...\">, #<Author id: 46, name: \"Lucy Maud\", surname: \"Montgomery\", born: \"1874-11-30\", died: \"1942-04-24\", image_url: \"http://commons.wikimedia.org/wiki/Special:FilePath...\">, #<Author id: 47, name: \"Dorota\", surname: \"Terakowska\", born: \"1938-08-30\", died: \"2004-01-04\", image_url: \"http://commons.wikimedia.org/wiki/Special:FilePath...\">, #<Author id: 48, name: \"Alfred\", surname: \"Szklarski\", born: \"1912-01-21\", died: \"1992-04-09\", image_url: \"http://commons.wikimedia.org/wiki/Special:FilePath...\">, #<Author id: 49, name: \"Adam\", surname: \"Zelga\", born: \"1953-03-11\", died: nil, image_url: nil>, #<Author id: 50, name: \"Rafał A.\", surname: \"Ziemkiewicz\", born: \"1964-09-13\", died: nil, image_url: \"http://commons.wikimedia.org/wiki/Special:FilePath...\">, #<Author id: 51, name: \"Anne\", surname: \"Rice\", born: \"1941-10-04\", died: nil, image_url: \"http://commons.wikimedia.org/wiki/Special:FilePath...\">, #<Author id: 52, name: \"Aleksander\", surname: \"Majkowski\", born: \"1876-07-17\", died: \"1938-02-10\", image_url: \"http://commons.wikimedia.org/wiki/Special:FilePath...\">, #<Author id: 53, name: \"Ian\", surname: \"Fleming\", born: \"1908-05-28\", died: \"1964-08-12\", image_url: \"http://commons.wikimedia.org/wiki/Special:FilePath...\">, #<Author id: 54, name: \"Gene\", surname: \"Wolfe\", born: \"1931-05-07\", died: nil, image_url: \"http://commons.wikimedia.org/wiki/Special:FilePath...\">, #<Author id: 55, name: \"Paulo\", surname: \"Coelho\", born: \"1947-08-24\", died: nil, image_url: \"http://commons.wikimedia.org/wiki/Special:FilePath...\">, #<Author id: 56, name: \"Tom\", surname: \"Clancy\", born: \"1947-04-12\", died: \"2013-10-01\", image_url: \"http://commons.wikimedia.org/wiki/Special:FilePath...\">]"
      ]
     },
     "execution_count": 32,
     "metadata": {},
     "output_type": "execute_result"
    }
   ],
   "source": [
    "def display_authors()\n",
    "  html = \"<h1>Lista autorów</h1>\"\n",
    "  authors = Author.all\n",
    "  authors.each do |author|\n",
    "    html << \"<h2>#{author.name} #{author.surname}</h2>\"\n",
    "    if (author.image_url != nil)\n",
    "      html << \" <img src='#{author.image_url}' />\"\n",
    "    end\n",
    "    if author.books.empty?\n",
    "      html << \"<p>Brak książek dla tego autora</p>\"\n",
    "    else\n",
    "      html << \"<p>Lista książek</p>\"\n",
    "    end\n",
    "    author.books.each do |book|\n",
    "        html << \"<p>#{book.title} #{book.published}</p>\"\n",
    "    end\n",
    "  end\n",
    "end\n",
    "  \n",
    "document = display_authors()\n",
    "IRuby.html document"
   ]
  }
 ],
 "metadata": {
  "kernelspec": {
   "display_name": "Ruby 2.2.3",
   "language": "ruby",
   "name": "ruby"
  },
  "language_info": {
   "file_extension": "rb",
   "mimetype": "application/x-ruby",
   "name": "ruby",
   "version": "2.2.3"
  }
 },
 "nbformat": 4,
 "nbformat_minor": 0
}
