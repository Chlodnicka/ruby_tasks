{
 "metadata": {
  "language": "ruby",
  "name": "",
  "signature": "sha256:422921ca146efc92f2f4c0f7ecb499bde08e87572df537ee5c1816cca81b2e58"
 },
 "nbformat": 3,
 "nbformat_minor": 0,
 "worksheets": [
  {
   "cells": [
    {
     "cell_type": "code",
     "collapsed": false,
     "input": [
      "Zapytania z\u0142o\u017cone"
     ],
     "language": "python",
     "metadata": {},
     "outputs": []
    },
    {
     "cell_type": "markdown",
     "metadata": {},
     "source": [
      "Przed rozpocz\u0119ciem pracy konieczne jest skonfigurowanie bazy oraz za\u0142adowanie danych:\n",
      "```ruby\n",
      "$:.unshift \".\"\n",
      "require 'db_setup'\n",
      "require 'db_load'\n",
      "```"
     ]
    },
    {
     "cell_type": "code",
     "collapsed": false,
     "input": [
      "$:.unshift \".\"\n",
      "require 'db_setup'\n",
      "require 'db_load'"
     ],
     "language": "python",
     "metadata": {},
     "outputs": [
      {
       "output_type": "stream",
       "stream": "stdout",
       "text": [
        "==  AddIndicesMigration: migrating ============================================\n"
       ]
      },
      {
       "output_type": "stream",
       "stream": "stdout",
       "text": [
        "==  AddIndicesMigration: migrated (0.0000s) ===================================\n"
       ]
      },
      {
       "output_type": "stream",
       "stream": "stdout",
       "text": [
        "\n"
       ]
      },
      {
       "metadata": {},
       "output_type": "pyout",
       "prompt_number": 2,
       "text": [
        "true"
       ]
      }
     ],
     "prompt_number": 2
    },
    {
     "cell_type": "markdown",
     "metadata": {},
     "source": [
      "W dalszych zadaniach b\u0119dzie wykonywa\u0107 polecenia korzystaj\u0105c z nast\u0119puj\u0105cych klas, zmapowanych na odpowiadaj\u0105ce im \n",
      "table w bazie danych:\n",
      "```ruby\n",
      "class Author < ActiveRecord::Base\n",
      "  # name      (string)\n",
      "  # surname   (string)\n",
      "  # born      (datetime) \n",
      "  # died      (datetime)\n",
      "  # image_url (string)\n",
      "  \n",
      "  has_many :books\n",
      "end\n",
      "\n",
      "class Book < ActiveRecord::Base\n",
      "  # title     (string)\n",
      "  # author    (Author)\n",
      "  # published (integer)\n",
      "\n",
      "  belongs_to :author\n",
      "end\n",
      "```"
     ]
    },
    {
     "cell_type": "markdown",
     "metadata": {},
     "source": [
      "ActiveRecord udost\u0119pnia interfejs pozwalaj\u0105cy wyszukiwa\u0107 dane w bazie r\u00f3wnie\u017c z wykorzystaniem zwi\u0105zk\u00f3w zdefiniowanych pomi\u0119dzy\n",
      "klasami. Do definiowania tych zwi\u0105zk\u00f3w s\u0142u\u017c\u0105 polecenia `has_many`, `belongs_to`, `has_one` oraz `has_and_belongs_to_many`.\n",
      "Przyk\u0142adowo je\u015bli chcemy dowiedzie\u0107 si\u0119 kto by\u0142 autorem pierwszej ksi\u0105\u017cki wykonujemy zapytanie:\n",
      "```ruby\n",
      "book = Book.first\n",
      "puts book.title\n",
      "puts book.author\n",
      "```"
     ]
    },
    {
     "cell_type": "code",
     "collapsed": false,
     "input": [
      "book = Book.first\n",
      "puts book.title\n",
      "puts book.author"
     ],
     "language": "python",
     "metadata": {},
     "outputs": [
      {
       "output_type": "stream",
       "stream": "stdout",
       "text": [
        "V\u00e9gj\u00e1t\u00e9k (reg\u00e9ny)\n"
       ]
      },
      {
       "output_type": "stream",
       "stream": "stdout",
       "text": [
        "#<Author:0x0000000305ba60>\n"
       ]
      }
     ],
     "prompt_number": 2
    },
    {
     "cell_type": "markdown",
     "metadata": {},
     "source": [
      "Niestety prezentowany wynik nie jest zbyt u\u017cyteczny. Poniewa\u017c jednak metoda `author` zwraca obiekt, mo\u017cemy na nim wywo\u0142ywa\u0107 \n",
      "metody - tak samo jak w przypadku autora za\u0142adowanego bezpo\u015brednio z wykorzystaniem metod zdefiniowanych dla klasy `Author`\n",
      "```ruby\n",
      "book = Book.first\n",
      "puts book.title\n",
      "puts \"#{book.author.name} #{book.author.surname}\"\n",
      "```"
     ]
    },
    {
     "cell_type": "code",
     "collapsed": false,
     "input": [
      "book = Book.first\n",
      "puts book.title\n",
      "puts \"#{book.author.name} #{book.author.surname}\""
     ],
     "language": "python",
     "metadata": {},
     "outputs": [
      {
       "output_type": "stream",
       "stream": "stdout",
       "text": [
        "V\u00e9gj\u00e1t\u00e9k (reg\u00e9ny)\n"
       ]
      },
      {
       "output_type": "stream",
       "stream": "stdout",
       "text": [
        "Orson Scott Card\n"
       ]
      }
     ],
     "prompt_number": 3
    },
    {
     "cell_type": "markdown",
     "metadata": {},
     "source": [
      "Co wi\u0119cej, je\u015bli mamy do czynienia ze zwi\u0105zkiem jeden-do-wiele b\u0105d\u017a wiele-do-wiele, mo\u017cemy wywy\u0142ywa\u0107 wszystkie dotychczas poznane \n",
      "metody na kolekcji powi\u0105zanych obiekt\u00f3w. Istotnie u\u0142atwia to wyszukiwanie potrzebnych danych:\n",
      "```ruby\n",
      "books = Book.where(\"title like 'A%'\")\n",
      "books.each do |book|\n",
      "  puts book.title\n",
      "end\n",
      "\n",
      "author = Author.where(surname: \"To\u0142stoj\").first\n",
      "books = author.books.where(\"title like 'A%'\")\n",
      "books.each do |book|\n",
      "  puts book.title\n",
      "end\n",
      "```"
     ]
    },
    {
     "cell_type": "code",
     "collapsed": false,
     "input": [
      "books = Book.where(\"title like 'A%'\")\n",
      "books.each do |book|\n",
      "  puts book.title\n",
      "end\n",
      "\n",
      "author = Author.where(surname: \"To\u0142stoj\").first\n",
      "books = author.books.where(\"title like 'A%'\")\n",
      "books.each do |book|\n",
      "  puts book.title\n",
      "end"
     ],
     "language": "python",
     "metadata": {},
     "outputs": [
      {
       "output_type": "stream",
       "stream": "stdout",
       "text": [
        "Anna Karenina\n"
       ]
      },
      {
       "output_type": "stream",
       "stream": "stdout",
       "text": [
        "Azazel (powie\u015b\u0107)\n"
       ]
      },
      {
       "output_type": "stream",
       "stream": "stdout",
       "text": [
        "Anna Karenina\n"
       ]
      },
      {
       "metadata": {},
       "output_type": "pyout",
       "prompt_number": 4,
       "text": [
        "[#<Book id: 33, title: \"Anna Karenina\", language: nil, author_id: 34, published: 1877, image_url: \"http://commons.wikimedia.org/wiki/Special:FilePath...\">]"
       ]
      }
     ],
     "prompt_number": 4
    },
    {
     "cell_type": "markdown",
     "metadata": {},
     "source": [
      "R\u00f3\u017cnica pomi\u0119dzy tymi zapytaniami polega na tym, \u017ce w pierwszym przypadku szukamy ksi\u0105\u017cki, kt\u00f3rych tytu\u0142 zaczyna si\u0119 na \"A\" \n",
      "w ca\u0142ym zbiorze ksi\u0105\u017cek, a w drugi przypadku w\u015br\u00f3d ksi\u0105\u017cek napisanych przez To\u0142stoja."
     ]
    },
    {
     "cell_type": "markdown",
     "metadata": {},
     "source": [
      "Aby umo\u017cliwi\u0107 formatowanie wynik\u00f3w zapytania, IRuby udost\u0119pnia metod\u0119 `IRuby.html`, kt\u00f3ra pozwala na wy\u015bwietlanie kodu\n",
      "HTML. Przyk\u0142adowo\n",
      "```ruby\n",
      "IRuby.html \"<h1>Test HTML-a</h1>\"\n",
      "```"
     ]
    },
    {
     "cell_type": "code",
     "collapsed": false,
     "input": [
      "IRuby.html \"<h1>Test HTML-a</h1>\""
     ],
     "language": "python",
     "metadata": {},
     "outputs": [
      {
       "html": [
        "<h1>Test HTML-a</h1>"
       ],
       "metadata": {},
       "output_type": "pyout",
       "prompt_number": 5,
       "text": [
        "\"<h1>Test HTML-a</h1>\""
       ]
      }
     ],
     "prompt_number": 5
    },
    {
     "cell_type": "markdown",
     "metadata": {},
     "source": [
      "Dzi\u0119ki temu b\u0119dziemy mogli formatowa\u0107 wyniki zapyta\u0144, a wszczeg\u00f3lno\u015bci wy\u015bwietla\u0107 obrazy przedstwiaj\u0105ce autor\u00f3w oraz ksi\u0105\u017cki. \n",
      "Nale\u017cy jednak wzi\u0105\u0107 pod uwag\u0119, \u017ce nie wszystkie ksi\u0105\u017cki oraz nie wszyscy autorzy posiadaj\u0105 odpowiadaj\u0105ce im obrazki.\n",
      "Aby wy\u015bwietli\u0107 imi\u0119, nazwisko oraz obraz pierwszego autora piszemy:\n",
      "```ruby\n",
      "author = Author.where(\"image_url is not null\").first\n",
      "IRuby.html \"<h1>#{author.name} #{author.surname}</h1><img src='#{author.image_url}'/>\"\n",
      "```"
     ]
    },
    {
     "cell_type": "code",
     "collapsed": false,
     "input": [
      "author = Author.where(\"image_url is not null\").first\n",
      "IRuby.html \"<h1>#{author.name} #{author.surname}</h1><img src='#{author.image_url}'/>\""
     ],
     "language": "python",
     "metadata": {},
     "outputs": [
      {
       "html": [
        "<h1>Orson Scott Card</h1><img src='http://commons.wikimedia.org/wiki/Special:FilePath/Orson_Scott_Card_at_BYU_Symposium_20080216_closeup.jpg?width=300'/>"
       ],
       "metadata": {},
       "output_type": "pyout",
       "prompt_number": 6,
       "text": [
        "\"<h1>Orson Scott Card</h1><img src='http://commons.wikimedia.org/wiki/Special:FilePath/Orson_Scott_Card_at_BYU_Symposium_20080216_closeup.jpg?width=300'/>\""
       ]
      }
     ],
     "prompt_number": 6
    },
    {
     "cell_type": "markdown",
     "metadata": {},
     "source": [
      "Mo\u017cemy r\u00f3wnie\u017c zdefniowa\u0107 funkcj\u0119, np. `display_author`, kt\u00f3rej zadaniem b\u0119dzie wy\u015bwietlenie autora w tej postaci. \n",
      "Jedyny problem polega na tym, \u017ce funkcja `IRuby.html` mo\u017ce by\u0107 wywo\u0142ywana tylko raz. Dlatego je\u015bli chcemy wy\u015bwietli\u0107 kilku autor\u00f3w,\n",
      "musimy po\u0142\u0105czy\u0107 odpowiadaj\u0105ce im kody HTML i wynik przekaza\u0107 do funkcji `html`\n",
      "```ruby\n",
      "def display_author(author)\n",
      "  \"<h1>#{author.name} #{author.surname}</h1><img src='#{author.image_url}'/>\"\n",
      "end\n",
      "\n",
      "author_1 = Author.where(\"image_url is not null\").first\n",
      "author_2 = Author.where(\"image_url is not null\").offset(1).first\n",
      "document = display_author(author_1)\n",
      "document += display_author(author_2)\n",
      "IRuby.html document\n",
      "```"
     ]
    },
    {
     "cell_type": "code",
     "collapsed": false,
     "input": [
      "def display_author(author)\n",
      "  \"<h1>#{author.name} #{author.surname}</h1><img src='#{author.image_url}'/>\"\n",
      "end\n",
      "\n",
      "author_1 = Author.where(\"image_url is not null\").first\n",
      "author_2 = Author.where(\"image_url is not null\").offset(1).first\n",
      "document = display_author(author_1)\n",
      "document += display_author(author_2)\n",
      "IRuby.html document"
     ],
     "language": "python",
     "metadata": {},
     "outputs": [
      {
       "html": [
        "<h1>Orson Scott Card</h1><img src='http://commons.wikimedia.org/wiki/Special:FilePath/Orson_Scott_Card_at_BYU_Symposium_20080216_closeup.jpg?width=300'/><h1>Andrzej Sapkowski</h1><img src='http://commons.wikimedia.org/wiki/Special:FilePath/Sapkowski.jpg?width=300'/>"
       ],
       "metadata": {},
       "output_type": "pyout",
       "prompt_number": 8,
       "text": [
        "\"<h1>Orson Scott Card</h1><img src='http://commons.wikimedia.org/wiki/Special:FilePath/Orson_Scott_Card_at_BYU_Symposium_20080216_closeup.jpg?width=300'/><h1>Andrzej Sapkowski</h1><img src='http://commons.wikimedia.org/wiki/Special:FilePath/Sapkowski.jpg?width=300'/>\""
       ]
      }
     ],
     "prompt_number": 8
    },
    {
     "cell_type": "heading",
     "level": 2,
     "metadata": {},
     "source": [
      "Zadania"
     ]
    },
    {
     "cell_type": "heading",
     "level": 3,
     "metadata": {},
     "source": [
      "Zadanie 1"
     ]
    },
    {
     "cell_type": "markdown",
     "metadata": {},
     "source": [
      "Wy\u015bwietl wszystkich autor\u00f3w, kt\u00f3rzy urodzili si\u0119 przed rokiem 1900."
     ]
    },
    {
     "cell_type": "code",
     "collapsed": false,
     "input": [
      "authors = Author.where('born < ?',Date.parse('1900-1-1'))\n",
      "authors.each do |author|\n",
      "  if author.born != nil && author.died != nil\n",
      "    puts \"#{author.name} #{author.surname} #{author.born.strftime(\"%d-%m-%Y\")} #{author.died.strftime(\"%d-%m-%Y\")}\"\n",
      "  end\n",
      "end"
     ],
     "language": "python",
     "metadata": {},
     "outputs": [
      {
       "output_type": "stream",
       "stream": "stdout",
       "text": [
        "Juliusz S\u0142owacki 04-09-1809 03-04-1849\n"
       ]
      },
      {
       "output_type": "stream",
       "stream": "stdout",
       "text": [
        "Henryk Sienkiewicz 05-05-1846 05-11-1916\n"
       ]
      },
      {
       "output_type": "stream",
       "stream": "stdout",
       "text": [
        "Eliza Orzeszkowa 06-06-1841 23-05-1910\n"
       ]
      },
      {
       "output_type": "stream",
       "stream": "stdout",
       "text": [
        "Adam Mickiewicz 24-12-1798 26-11-1855\n"
       ]
      },
      {
       "output_type": "stream",
       "stream": "stdout",
       "text": [
        "Jack London 12-01-1876 22-11-1916\n"
       ]
      },
      {
       "output_type": "stream",
       "stream": "stdout",
       "text": [
        "Miko\u0142aj Kopernik 19-02-1473 24-05-1543\n"
       ]
      },
      {
       "output_type": "stream",
       "stream": "stdout",
       "text": [
        "William Szekspir 23-04-1564 03-05-1616\n"
       ]
      },
      {
       "output_type": "stream",
       "stream": "stdout",
       "text": [
        "John Ronald Reuel Tolkien 03-01-1892 02-09-1973\n"
       ]
      },
      {
       "output_type": "stream",
       "stream": "stdout",
       "text": [
        "Aleksander Dumas (ojciec) 24-07-1802 05-12-1870\n"
       ]
      },
      {
       "output_type": "stream",
       "stream": "stdout",
       "text": [
        "Tadeusz Do\u0142\u0119ga-Mostowicz 10-08-1898 20-09-1939\n"
       ]
      },
      {
       "output_type": "stream",
       "stream": "stdout",
       "text": [
        "Vladimir Nabokov 22-04-1899 02-07-1977\n"
       ]
      },
      {
       "output_type": "stream",
       "stream": "stdout",
       "text": [
        "Adolf Hitler 20-04-1889 30-04-1945\n"
       ]
      },
      {
       "output_type": "stream",
       "stream": "stdout",
       "text": [
        "Benedykt Chmielowski 20-03-1700 07-04-1763\n"
       ]
      },
      {
       "output_type": "stream",
       "stream": "stdout",
       "text": [
        "Aldous Huxley 26-07-1894 22-11-1963\n"
       ]
      },
      {
       "output_type": "stream",
       "stream": "stdout",
       "text": [
        "Honor\u00e9 de Balzac 20-05-1799 18-08-1850\n"
       ]
      },
      {
       "output_type": "stream",
       "stream": "stdout",
       "text": [
        "Franz Kafka 03-07-1883 03-06-1924\n"
       ]
      },
      {
       "output_type": "stream",
       "stream": "stdout",
       "text": [
        "Howard Phillips Lovecraft 20-08-1890 15-03-1937\n"
       ]
      },
      {
       "output_type": "stream",
       "stream": "stdout",
       "text": [
        "Lew To\u0142stoj 09-09-1828 20-11-1910\n"
       ]
      },
      {
       "output_type": "stream",
       "stream": "stdout",
       "text": [
        "Ilja Ilf 15-10-1897 13-04-1937\n"
       ]
      },
      {
       "output_type": "stream",
       "stream": "stdout",
       "text": [
        "Gabriela Zapolska 30-03-1857 17-12-1921\n"
       ]
      },
      {
       "output_type": "stream",
       "stream": "stdout",
       "text": [
        "Clive Staples Lewis 29-11-1898 22-11-1963\n"
       ]
      },
      {
       "output_type": "stream",
       "stream": "stdout",
       "text": [
        "Iwan Turgieniew 09-11-1818 03-09-1883\n"
       ]
      },
      {
       "output_type": "stream",
       "stream": "stdout",
       "text": [
        "Lucy Maud Montgomery 30-11-1874 24-04-1942\n"
       ]
      },
      {
       "output_type": "stream",
       "stream": "stdout",
       "text": [
        "Aleksander Majkowski 17-07-1876 10-02-1938\n"
       ]
      },
      {
       "metadata": {},
       "output_type": "pyout",
       "prompt_number": 16,
       "text": [
        "[#<Author id: 2, name: \"Juliusz\", surname: \"S\u0142owacki\", born: \"1809-09-04\", died: \"1849-04-03\", image_url: nil>, #<Author id: 3, name: \"Henryk\", surname: \"Sienkiewicz\", born: \"1846-05-05\", died: \"1916-11-05\", image_url: nil>, #<Author id: 4, name: \"Eliza\", surname: \"Orzeszkowa\", born: \"1841-06-06\", died: \"1910-05-23\", image_url: nil>, #<Author id: 5, name: \"Adam\", surname: \"Mickiewicz\", born: \"1798-12-24\", died: \"1855-11-26\", image_url: nil>, #<Author id: 8, name: \"Jack\", surname: \"London\", born: \"1876-01-12\", died: \"1916-11-22\", image_url: \"http://commons.wikimedia.org/wiki/Special:FilePath...\">, #<Author id: 12, name: \"Miko\u0142aj\", surname: \"Kopernik\", born: \"1473-02-19\", died: \"1543-05-24\", image_url: \"http://commons.wikimedia.org/wiki/Special:FilePath...\">, #<Author id: 13, name: \"Maria Franciszka\", surname: \"Koz\u0142owska\", born: \"1862-05-27\", died: nil, image_url: \"http://commons.wikimedia.org/wiki/Special:FilePath...\">, #<Author id: 15, name: \"William\", surname: \"Szekspir\", born: \"1564-04-23\", died: \"1616-05-03\", image_url: \"http://commons.wikimedia.org/wiki/Special:FilePath...\">, #<Author id: 17, name: \"John Ronald Reuel\", surname: \"Tolkien\", born: \"1892-01-03\", died: \"1973-09-02\", image_url: \"http://commons.wikimedia.org/wiki/Special:FilePath...\">, #<Author id: 18, name: \"Aleksander Dumas\", surname: \"(ojciec)\", born: \"1802-07-24\", died: \"1870-12-05\", image_url: \"http://commons.wikimedia.org/wiki/Special:FilePath...\">, #<Author id: 19, name: \"Tadeusz\", surname: \"Do\u0142\u0119ga-Mostowicz\", born: \"1898-08-10\", died: \"1939-09-20\", image_url: \"http://commons.wikimedia.org/wiki/Special:FilePath...\">, #<Author id: 20, name: \"Vladimir\", surname: \"Nabokov\", born: \"1899-04-22\", died: \"1977-07-02\", image_url: \"http://commons.wikimedia.org/wiki/Special:FilePath...\">, #<Author id: 21, name: \"Adolf\", surname: \"Hitler\", born: \"1889-04-20\", died: \"1945-04-30\", image_url: \"http://commons.wikimedia.org/wiki/Special:FilePath...\">, #<Author id: 23, name: \"Benedykt\", surname: \"Chmielowski\", born: \"1700-03-20\", died: \"1763-04-07\", image_url: \"http://commons.wikimedia.org/wiki/Special:FilePath...\">, #<Author id: 24, name: \"Aldous\", surname: \"Huxley\", born: \"1894-07-26\", died: \"1963-11-22\", image_url: \"http://commons.wikimedia.org/wiki/Special:FilePath...\">, #<Author id: 25, name: \"Honor\u00e9 de\", surname: \"Balzac\", born: \"1799-05-20\", died: \"1850-08-18\", image_url: \"http://commons.wikimedia.org/wiki/Special:FilePath...\">, #<Author id: 26, name: \"Franz\", surname: \"Kafka\", born: \"1883-07-03\", died: \"1924-06-03\", image_url: \"http://commons.wikimedia.org/wiki/Special:FilePath...\">, #<Author id: 28, name: \"Howard Phillips\", surname: \"Lovecraft\", born: \"1890-08-20\", died: \"1937-03-15\", image_url: \"http://commons.wikimedia.org/wiki/Special:FilePath...\">, #<Author id: 30, name: \"Lew\", surname: \"To\u0142stoj\", born: \"1828-09-09\", died: \"1910-11-20\", image_url: \"http://commons.wikimedia.org/wiki/Special:FilePath...\">, #<Author id: 35, name: \"Ilja\", surname: \"Ilf\", born: \"1897-10-15\", died: \"1937-04-13\", image_url: \"http://commons.wikimedia.org/wiki/Special:FilePath...\">, #<Author id: 37, name: \"Gabriela\", surname: \"Zapolska\", born: \"1857-03-30\", died: \"1921-12-17\", image_url: \"http://commons.wikimedia.org/wiki/Special:FilePath...\">, #<Author id: 40, name: \"Clive Staples\", surname: \"Lewis\", born: \"1898-11-29\", died: \"1963-11-22\", image_url: \"http://commons.wikimedia.org/wiki/Special:FilePath...\">, #<Author id: 43, name: \"Iwan\", surname: \"Turgieniew\", born: \"1818-11-09\", died: \"1883-09-03\", image_url: \"http://commons.wikimedia.org/wiki/Special:FilePath...\">, #<Author id: 46, name: \"Lucy Maud\", surname: \"Montgomery\", born: \"1874-11-30\", died: \"1942-04-24\", image_url: \"http://commons.wikimedia.org/wiki/Special:FilePath...\">, #<Author id: 52, name: \"Aleksander\", surname: \"Majkowski\", born: \"1876-07-17\", died: \"1938-02-10\", image_url: \"http://commons.wikimedia.org/wiki/Special:FilePath...\">]"
       ]
      }
     ],
     "prompt_number": 16
    },
    {
     "cell_type": "heading",
     "level": 3,
     "metadata": {},
     "source": [
      "Zadanie 2"
     ]
    },
    {
     "cell_type": "markdown",
     "metadata": {},
     "source": [
      "Zmodyfikuj funkcj\u0119 wy\u015bwietlaj\u0105c\u0105 autor\u00f3w tak aby obejmowa\u0142a ich dat\u0119 urodzin i \u015bmierci w formacie `dzie\u0144.miesi\u0105c.rok`. Nast\u0119pnie wy\u015bwietl wszystkich autor\u00f3w,\n",
      "kt\u00f3rzy zmarli w XX wieku."
     ]
    },
    {
     "cell_type": "code",
     "collapsed": false,
     "input": [
      "authors = Author.where(died: (Date.parse('1901-1-1')..Date.parse('2000-12-31')))\n",
      "authors.each do |author|\n",
      "  if author.born != nil && author.died != nil\n",
      "    puts \"#{author.name} #{author.surname} #{author.born.strftime(\"%d-%m-%Y\")} #{author.died.strftime(\"%d-%m-%Y\")}\"\n",
      "  end\n",
      "end"
     ],
     "language": "python",
     "metadata": {},
     "outputs": [
      {
       "output_type": "stream",
       "stream": "stdout",
       "text": [
        "Henryk Sienkiewicz 05-05-1846 05-11-1916\n"
       ]
      },
      {
       "output_type": "stream",
       "stream": "stdout",
       "text": [
        "Eliza Orzeszkowa 06-06-1841 23-05-1910\n"
       ]
      },
      {
       "output_type": "stream",
       "stream": "stdout",
       "text": [
        "Jack London 12-01-1876 22-11-1916\n"
       ]
      },
      {
       "output_type": "stream",
       "stream": "stdout",
       "text": [
        "Antoni Go\u0142ubiew 25-02-1907 27-06-1979\n"
       ]
      },
      {
       "output_type": "stream",
       "stream": "stdout",
       "text": [
        "George Orwell 25-06-1903 21-01-1950\n"
       ]
      },
      {
       "output_type": "stream",
       "stream": "stdout",
       "text": [
        "John Ronald Reuel Tolkien 03-01-1892 02-09-1973\n"
       ]
      },
      {
       "output_type": "stream",
       "stream": "stdout",
       "text": [
        "Tadeusz Do\u0142\u0119ga-Mostowicz 10-08-1898 20-09-1939\n"
       ]
      },
      {
       "output_type": "stream",
       "stream": "stdout",
       "text": [
        "Vladimir Nabokov 22-04-1899 02-07-1977\n"
       ]
      },
      {
       "output_type": "stream",
       "stream": "stdout",
       "text": [
        "Adolf Hitler 20-04-1889 30-04-1945\n"
       ]
      },
      {
       "output_type": "stream",
       "stream": "stdout",
       "text": [
        "Aldous Huxley 26-07-1894 22-11-1963\n"
       ]
      },
      {
       "output_type": "stream",
       "stream": "stdout",
       "text": [
        "Franz Kafka 03-07-1883 03-06-1924\n"
       ]
      },
      {
       "output_type": "stream",
       "stream": "stdout",
       "text": [
        "Howard Phillips Lovecraft 20-08-1890 15-03-1937\n"
       ]
      },
      {
       "output_type": "stream",
       "stream": "stdout",
       "text": [
        "Karol Olgierd Borchardt 25-03-1905 20-05-1986\n"
       ]
      },
      {
       "output_type": "stream",
       "stream": "stdout",
       "text": [
        "Lew To\u0142stoj 09-09-1828 20-11-1910\n"
       ]
      },
      {
       "output_type": "stream",
       "stream": "stdout",
       "text": [
        "Janusz Zajdel 15-08-1938 19-07-1985\n"
       ]
      },
      {
       "output_type": "stream",
       "stream": "stdout",
       "text": [
        "Isaac Asimov 04-10-1919 06-04-1992\n"
       ]
      },
      {
       "output_type": "stream",
       "stream": "stdout",
       "text": [
        "Ilja Ilf 15-10-1897 13-04-1937\n"
       ]
      },
      {
       "output_type": "stream",
       "stream": "stdout",
       "text": [
        "Jewgienij Pietrow (pisarz) 13-12-1903 02-07-1942\n"
       ]
      },
      {
       "output_type": "stream",
       "stream": "stdout",
       "text": [
        "Gabriela Zapolska 30-03-1857 17-12-1921\n"
       ]
      },
      {
       "output_type": "stream",
       "stream": "stdout",
       "text": [
        "Clive Staples Lewis 29-11-1898 22-11-1963\n"
       ]
      },
      {
       "output_type": "stream",
       "stream": "stdout",
       "text": [
        "Lucy Maud Montgomery 30-11-1874 24-04-1942\n"
       ]
      },
      {
       "output_type": "stream",
       "stream": "stdout",
       "text": [
        "Alfred Szklarski 21-01-1912 09-04-1992\n"
       ]
      },
      {
       "output_type": "stream",
       "stream": "stdout",
       "text": [
        "Aleksander Majkowski 17-07-1876 10-02-1938\n"
       ]
      },
      {
       "output_type": "stream",
       "stream": "stdout",
       "text": [
        "Ian Fleming 28-05-1908 12-08-1964\n"
       ]
      },
      {
       "metadata": {},
       "output_type": "pyout",
       "prompt_number": 4,
       "text": [
        "[#<Author id: 3, name: \"Henryk\", surname: \"Sienkiewicz\", born: \"1846-05-05\", died: \"1916-11-05\", image_url: nil>, #<Author id: 4, name: \"Eliza\", surname: \"Orzeszkowa\", born: \"1841-06-06\", died: \"1910-05-23\", image_url: nil>, #<Author id: 8, name: \"Jack\", surname: \"London\", born: \"1876-01-12\", died: \"1916-11-22\", image_url: \"http://commons.wikimedia.org/wiki/Special:FilePath...\">, #<Author id: 11, name: \"Antoni\", surname: \"Go\u0142ubiew\", born: \"1907-02-25\", died: \"1979-06-27\", image_url: \"http://commons.wikimedia.org/wiki/Special:FilePath...\">, #<Author id: 14, name: \"George\", surname: \"Orwell\", born: \"1903-06-25\", died: \"1950-01-21\", image_url: \"http://commons.wikimedia.org/wiki/Special:FilePath...\">, #<Author id: 17, name: \"John Ronald Reuel\", surname: \"Tolkien\", born: \"1892-01-03\", died: \"1973-09-02\", image_url: \"http://commons.wikimedia.org/wiki/Special:FilePath...\">, #<Author id: 19, name: \"Tadeusz\", surname: \"Do\u0142\u0119ga-Mostowicz\", born: \"1898-08-10\", died: \"1939-09-20\", image_url: \"http://commons.wikimedia.org/wiki/Special:FilePath...\">, #<Author id: 20, name: \"Vladimir\", surname: \"Nabokov\", born: \"1899-04-22\", died: \"1977-07-02\", image_url: \"http://commons.wikimedia.org/wiki/Special:FilePath...\">, #<Author id: 21, name: \"Adolf\", surname: \"Hitler\", born: \"1889-04-20\", died: \"1945-04-30\", image_url: \"http://commons.wikimedia.org/wiki/Special:FilePath...\">, #<Author id: 24, name: \"Aldous\", surname: \"Huxley\", born: \"1894-07-26\", died: \"1963-11-22\", image_url: \"http://commons.wikimedia.org/wiki/Special:FilePath...\">, #<Author id: 26, name: \"Franz\", surname: \"Kafka\", born: \"1883-07-03\", died: \"1924-06-03\", image_url: \"http://commons.wikimedia.org/wiki/Special:FilePath...\">, #<Author id: 28, name: \"Howard Phillips\", surname: \"Lovecraft\", born: \"1890-08-20\", died: \"1937-03-15\", image_url: \"http://commons.wikimedia.org/wiki/Special:FilePath...\">, #<Author id: 29, name: \"Karol Olgierd\", surname: \"Borchardt\", born: \"1905-03-25\", died: \"1986-05-20\", image_url: \"http://commons.wikimedia.org/wiki/Special:FilePath...\">, #<Author id: 30, name: \"Lew\", surname: \"To\u0142stoj\", born: \"1828-09-09\", died: \"1910-11-20\", image_url: \"http://commons.wikimedia.org/wiki/Special:FilePath...\">, #<Author id: 32, name: \"Janusz\", surname: \"Zajdel\", born: \"1938-08-15\", died: \"1985-07-19\", image_url: \"http://commons.wikimedia.org/wiki/Special:FilePath...\">, #<Author id: 34, name: \"Isaac\", surname: \"Asimov\", born: \"1919-10-04\", died: \"1992-04-06\", image_url: \"http://commons.wikimedia.org/wiki/Special:FilePath...\">, #<Author id: 35, name: \"Ilja\", surname: \"Ilf\", born: \"1897-10-15\", died: \"1937-04-13\", image_url: \"http://commons.wikimedia.org/wiki/Special:FilePath...\">, #<Author id: 36, name: \"Jewgienij Pietrow\", surname: \"(pisarz)\", born: \"1903-12-13\", died: \"1942-07-02\", image_url: \"http://commons.wikimedia.org/wiki/Special:FilePath...\">, #<Author id: 37, name: \"Gabriela\", surname: \"Zapolska\", born: \"1857-03-30\", died: \"1921-12-17\", image_url: \"http://commons.wikimedia.org/wiki/Special:FilePath...\">, #<Author id: 40, name: \"Clive Staples\", surname: \"Lewis\", born: \"1898-11-29\", died: \"1963-11-22\", image_url: \"http://commons.wikimedia.org/wiki/Special:FilePath...\">, #<Author id: 46, name: \"Lucy Maud\", surname: \"Montgomery\", born: \"1874-11-30\", died: \"1942-04-24\", image_url: \"http://commons.wikimedia.org/wiki/Special:FilePath...\">, #<Author id: 48, name: \"Alfred\", surname: \"Szklarski\", born: \"1912-01-21\", died: \"1992-04-09\", image_url: \"http://commons.wikimedia.org/wiki/Special:FilePath...\">, #<Author id: 52, name: \"Aleksander\", surname: \"Majkowski\", born: \"1876-07-17\", died: \"1938-02-10\", image_url: \"http://commons.wikimedia.org/wiki/Special:FilePath...\">, #<Author id: 53, name: \"Ian\", surname: \"Fleming\", born: \"1908-05-28\", died: \"1964-08-12\", image_url: \"http://commons.wikimedia.org/wiki/Special:FilePath...\">]"
       ]
      }
     ],
     "prompt_number": 4
    },
    {
     "cell_type": "heading",
     "level": 3,
     "metadata": {},
     "source": [
      "Zadanie 3"
     ]
    },
    {
     "cell_type": "markdown",
     "metadata": {},
     "source": [
      "Wy\u015bwietl 5 najm\u0142odszych autor\u00f3w, kt\u00f3rzy posiadaj\u0105 przypisane zdj\u0119cie."
     ]
    },
    {
     "cell_type": "code",
     "collapsed": false,
     "input": [
      "authors = Author.where(\"image_url is not null\")\n",
      "authors = Author.order(:born).last(5)\n",
      "authors.each do |author|\n",
      "  puts \"#{author.name} #{author.surname} #{author.born}\"\n",
      "end"
     ],
     "language": "python",
     "metadata": {},
     "outputs": [
      {
       "output_type": "stream",
       "stream": "stdout",
       "text": [
        "Adam Zelga 1953-03-11\n"
       ]
      },
      {
       "output_type": "stream",
       "stream": "stdout",
       "text": [
        "Boris Akunin 1956-05-20\n"
       ]
      },
      {
       "output_type": "stream",
       "stream": "stdout",
       "text": [
        "Rafa\u0142 A. Ziemkiewicz 1964-09-13\n"
       ]
      },
      {
       "output_type": "stream",
       "stream": "stdout",
       "text": [
        "J. K. Rowling 1965-07-31\n"
       ]
      },
      {
       "output_type": "stream",
       "stream": "stdout",
       "text": [
        "Andrzej Pilipiuk 1974-03-20\n"
       ]
      },
      {
       "metadata": {},
       "output_type": "pyout",
       "prompt_number": 5,
       "text": [
        "[#<Author id: 49, name: \"Adam\", surname: \"Zelga\", born: \"1953-03-11\", died: nil, image_url: nil>, #<Author id: 31, name: \"Boris\", surname: \"Akunin\", born: \"1956-05-20\", died: nil, image_url: \"http://commons.wikimedia.org/wiki/Special:FilePath...\">, #<Author id: 50, name: \"Rafa\u0142 A.\", surname: \"Ziemkiewicz\", born: \"1964-09-13\", died: nil, image_url: \"http://commons.wikimedia.org/wiki/Special:FilePath...\">, #<Author id: 16, name: \"J. K.\", surname: \"Rowling\", born: \"1965-07-31\", died: nil, image_url: \"http://commons.wikimedia.org/wiki/Special:FilePath...\">, #<Author id: 41, name: \"Andrzej\", surname: \"Pilipiuk\", born: \"1974-03-20\", died: nil, image_url: \"http://commons.wikimedia.org/wiki/Special:FilePath...\">]"
       ]
      }
     ],
     "prompt_number": 5
    },
    {
     "cell_type": "heading",
     "level": 3,
     "metadata": {},
     "source": [
      "Zadanie 4"
     ]
    },
    {
     "cell_type": "markdown",
     "metadata": {},
     "source": [
      "Zdefiniuj funkcj\u0119 `display_book`, kt\u00f3ra b\u0119dzie zwraca\u0142a fragment kodu HTML obejmuj\u0105cy tytu\u0142 ksi\u0105\u017cki, rok jej wydania oraz\n",
      "przypisany obrazek.\n",
      "Wy\u015bwietl najwcze\u015bniej wydan\u0105 ksi\u0105\u017ck\u0119."
     ]
    },
    {
     "cell_type": "code",
     "collapsed": false,
     "input": [
      "def display_book(book)\n",
      "    \"<h1>#{book.title} #{book.published}</h1><img src='#{book.author.image_url}'/>\"\n",
      "end\n",
      "book = Book.where(\"published is not null and published != 0\").order(:published).first\n",
      "document = display_book(book)\n",
      "IRuby.html document"
     ],
     "language": "python",
     "metadata": {},
     "outputs": [
      {
       "html": [
        "<h1>De revolutionibus orbium coelestium 1543</h1><img src='http://commons.wikimedia.org/wiki/Special:FilePath/Nikolaus_Kopernikus.jpg?width=300'/>"
       ],
       "metadata": {},
       "output_type": "pyout",
       "prompt_number": 6,
       "text": [
        "\"<h1>De revolutionibus orbium coelestium 1543</h1><img src='http://commons.wikimedia.org/wiki/Special:FilePath/Nikolaus_Kopernikus.jpg?width=300'/>\""
       ]
      }
     ],
     "prompt_number": 6
    },
    {
     "cell_type": "heading",
     "level": 3,
     "metadata": {},
     "source": [
      "Zadanie 5"
     ]
    },
    {
     "cell_type": "markdown",
     "metadata": {},
     "source": [
      "Wy\u015bwietl wszystkie ksi\u0105\u017cki, kt\u00f3re nie maj\u0105 przypisanego roku wydania."
     ]
    },
    {
     "cell_type": "code",
     "collapsed": false,
     "input": [
      "books = Book.where(\"published is null or published == 0\")\n",
      "books.each do |book|\n",
      "  p  \"#{book.author.name} #{book.author.surname} #{book.title} #{book.published}\"\n",
      "end"
     ],
     "language": "python",
     "metadata": {},
     "outputs": [
      {
       "output_type": "stream",
       "stream": "stdout",
       "text": [
        "\"Orson Scott Card V\u00e9gj\u00e1t\u00e9k (reg\u00e9ny) \""
       ]
      },
      {
       "output_type": "stream",
       "stream": "stdout",
       "text": [
        "\n"
       ]
      },
      {
       "output_type": "stream",
       "stream": "stdout",
       "text": [
        "\"William Szekspir Hamlet \""
       ]
      },
      {
       "output_type": "stream",
       "stream": "stdout",
       "text": [
        "\n"
       ]
      },
      {
       "output_type": "stream",
       "stream": "stdout",
       "text": [
        "\"Iwan Turgieniew Ojcowie i dzieci 0\""
       ]
      },
      {
       "output_type": "stream",
       "stream": "stdout",
       "text": [
        "\n"
       ]
      },
      {
       "metadata": {},
       "output_type": "pyout",
       "prompt_number": 7,
       "text": [
        "[#<Book id: 1, title: \"V\u00e9gj\u00e1t\u00e9k (reg\u00e9ny)\", language: nil, author_id: 6, published: nil, image_url: nil>, #<Book id: 10, title: \"Hamlet\", language: nil, author_id: 15, published: nil, image_url: \"http://commons.wikimedia.org/wiki/Special:FilePath...\">, #<Book id: 65, title: \"Ojcowie i dzieci\", language: nil, author_id: 43, published: 0, image_url: \"http://commons.wikimedia.org/wiki/Special:FilePath...\">]"
       ]
      }
     ],
     "prompt_number": 7
    },
    {
     "cell_type": "heading",
     "level": 3,
     "metadata": {},
     "source": [
      "Zadanie 6"
     ]
    },
    {
     "cell_type": "markdown",
     "metadata": {},
     "source": [
      "Zmodyfikuj funkcj\u0119 `display_author` tak, aby wy\u015bwietla\u0142a r\u00f3wnie\u017c wszystkie ksi\u0105\u017cki napisane przez autora. U\u017cyj znacznika `<ul>`.\n",
      "Korzystaj\u0105c z tej funkcji wy\u015bwietl opis Stanis\u0142awa Lema."
     ]
    },
    {
     "cell_type": "code",
     "collapsed": false,
     "input": [
      "def display_author(author)\n",
      "  author = Author.where(surname: author).first\n",
      "  books = author.books\n",
      "  html = \"<h1>#{author.name} #{author.surname}</h1>\"\n",
      "  html << \"<ul>\"\n",
      "  books.each do |book|\n",
      "    html << \"<li> #{book.title}</li>\"\n",
      "  end\n",
      "  html << \"</ul>\"\n",
      "end\n",
      "\n",
      "document = display_author(\"Lem\")\n",
      "IRuby.html document"
     ],
     "language": "python",
     "metadata": {},
     "outputs": [
      {
       "html": [
        "<h1>Stanis\u0142aw Lem</h1><ul><li> Bajki robot\u00f3w</li><li> Solaris (powie\u015b\u0107)</li><li> Bezsenno\u015b\u0107 (zbi\u00f3r opowiada\u0144)</li><li> G\u0142os Pana</li><li> Inwazja z Aldebarana (zbi\u00f3r opowiada\u0144)</li><li> Katar (powie\u015b\u0107)</li><li> Ksi\u0119ga robot\u00f3w</li><li> Maska (zbi\u00f3r dzie\u0142)</li><li> Niezwyci\u0119\u017cony i inne opowiadania</li><li> Noc ksi\u0119\u017cycowa</li><li> Pami\u0119tnik znaleziony w wannie</li><li> Polowanie (zbi\u00f3r opowiada\u0144)</li><li> Powt\u00f3rka (zbi\u00f3r dzie\u0142)</li><li> Po\u017cytek ze smoka</li><li> Rasa drapie\u017cc\u00f3w. Teksty ostatnie</li><li> Sezam i inne opowiadania</li><li> Summa technologiae</li><li> Wizja lokalna (powie\u015b\u0107)</li></ul>"
       ],
       "metadata": {},
       "output_type": "pyout",
       "prompt_number": 8,
       "text": [
        "\"<h1>Stanis\u0142aw Lem</h1><ul><li> Bajki robot\u00f3w</li><li> Solaris (powie\u015b\u0107)</li><li> Bezsenno\u015b\u0107 (zbi\u00f3r opowiada\u0144)</li><li> G\u0142os Pana</li><li> Inwazja z Aldebarana (zbi\u00f3r opowiada\u0144)</li><li> Katar (powie\u015b\u0107)</li><li> Ksi\u0119ga robot\u00f3w</li><li> Maska (zbi\u00f3r dzie\u0142)</li><li> Niezwyci\u0119\u017cony i inne opowiadania</li><li> Noc ksi\u0119\u017cycowa</li><li> Pami\u0119tnik znaleziony w wannie</li><li> Polowanie (zbi\u00f3r opowiada\u0144)</li><li> Powt\u00f3rka (zbi\u00f3r dzie\u0142)</li><li> Po\u017cytek ze smoka</li><li> Rasa drapie\u017cc\u00f3w. Teksty ostatnie</li><li> Sezam i inne opowiadania</li><li> Summa technologiae</li><li> Wizja lokalna (powie\u015b\u0107)</li></ul>\""
       ]
      }
     ],
     "prompt_number": 8
    },
    {
     "cell_type": "heading",
     "level": 3,
     "metadata": {},
     "source": [
      "Zadanie 7"
     ]
    },
    {
     "cell_type": "markdown",
     "metadata": {},
     "source": [
      "W\u015br\u00f3d ksi\u0105\u017cek napisanych przez Lema wy\u015bwietl wszystkie, kt\u00f3re zawieraja w tytule s\u0142owo \"zbi\u00f3r\"."
     ]
    },
    {
     "cell_type": "code",
     "collapsed": false,
     "input": [
      "def display_author(author)\n",
      "  author = Author.where(surname: author).first\n",
      "  books = author.books.where(\"title like '%zbi\u00f3r%'\")\n",
      "  html = \"<h1>#{author.name} #{author.surname}</h1>\"\n",
      "  html << \"<ul>\"\n",
      "  books.each do |book|\n",
      "    html << \"<li> #{book.title}</li>\"\n",
      "  end\n",
      "  html << \"</ul>\"\n",
      "end\n",
      "\n",
      "document = display_author(\"Lem\")\n",
      "IRuby.html document"
     ],
     "language": "python",
     "metadata": {},
     "outputs": [
      {
       "html": [
        "<h1>Stanis\u0142aw Lem</h1><ul><li> Bezsenno\u015b\u0107 (zbi\u00f3r opowiada\u0144)</li><li> Inwazja z Aldebarana (zbi\u00f3r opowiada\u0144)</li><li> Maska (zbi\u00f3r dzie\u0142)</li><li> Polowanie (zbi\u00f3r opowiada\u0144)</li><li> Powt\u00f3rka (zbi\u00f3r dzie\u0142)</li></ul>"
       ],
       "metadata": {},
       "output_type": "pyout",
       "prompt_number": 9,
       "text": [
        "\"<h1>Stanis\u0142aw Lem</h1><ul><li> Bezsenno\u015b\u0107 (zbi\u00f3r opowiada\u0144)</li><li> Inwazja z Aldebarana (zbi\u00f3r opowiada\u0144)</li><li> Maska (zbi\u00f3r dzie\u0142)</li><li> Polowanie (zbi\u00f3r opowiada\u0144)</li><li> Powt\u00f3rka (zbi\u00f3r dzie\u0142)</li></ul>\""
       ]
      }
     ],
     "prompt_number": 9
    },
    {
     "cell_type": "heading",
     "level": 3,
     "metadata": {},
     "source": [
      "Zadanie 8"
     ]
    },
    {
     "cell_type": "markdown",
     "metadata": {},
     "source": [
      "W\u015br\u00f3d ksi\u0105\u017cek napisanych przez Lema wy\u015bwietl te, kt\u00f3re zosta\u0142y wydane w roku jego \u015bmierci."
     ]
    },
    {
     "cell_type": "code",
     "collapsed": false,
     "input": [
      "def display_author(author)\n",
      "  author = Author.where(surname: author).first\n",
      "  died = author.died.year\n",
      "  books = author.books.where(\"published = ?\", died)\n",
      "  html = \"<h1>#{author.name} #{author.surname}</h1>\"\n",
      "  html << \"<ul>\"\n",
      "  books.each do |book|\n",
      "    html << \"<li> #{book.title}</li>\"\n",
      "  end\n",
      "  html << \"</ul>\"\n",
      "end\n",
      "\n",
      "document = display_author(\"Lem\")\n",
      "IRuby.html document"
     ],
     "language": "python",
     "metadata": {},
     "outputs": [
      {
       "html": [
        "<h1>Stanis\u0142aw Lem</h1><ul><li> Rasa drapie\u017cc\u00f3w. Teksty ostatnie</li></ul>"
       ],
       "metadata": {},
       "output_type": "pyout",
       "prompt_number": 10,
       "text": [
        "\"<h1>Stanis\u0142aw Lem</h1><ul><li> Rasa drapie\u017cc\u00f3w. Teksty ostatnie</li></ul>\""
       ]
      }
     ],
     "prompt_number": 10
    },
    {
     "cell_type": "heading",
     "level": 3,
     "metadata": {},
     "source": [
      "Zadanie 9"
     ]
    },
    {
     "cell_type": "markdown",
     "metadata": {},
     "source": [
      "Wy\u015bwietl wszystkie ksi\u0105\u017cki znajduj\u0105ce si\u0119 w bazie. Opis powinien zawiera\u0107 tytu\u0142, imi\u0119 i nazwisko autora, rok wydania oraz \n",
      "obraz przedstawiaj\u0105cy ksi\u0105\u017ck\u0119 (o ile istnieje)."
     ]
    },
    {
     "cell_type": "code",
     "collapsed": false,
     "input": [
      "def display_books()\n",
      "  books = Book.all\n",
      "  list = \"<h1>Ksi\u0105\u017cki</h1><ul>\"\n",
      "  books.each do |book|\n",
      "    list << \"<li>\"\n",
      "    list << \"#{book.title} #{book.published} - #{book.author.name} #{book.author.surname}\"\n",
      "    if (book.image_url != nil)\n",
      "      list << \"<img src='#{book.image_url}'/>\"\n",
      "    end\n",
      "    list << \"</li>\"\n",
      "  end\n",
      "  list << \"</ul>\"\n",
      "end \n",
      "\n",
      "document = display_books()\n",
      "IRuby.html document"
     ],
     "language": "python",
     "metadata": {},
     "outputs": [
      {
       "html": [
        "<h1>Ksi\u0105\u017cki</h1><ul><li>V\u00e9gj\u00e1t\u00e9k (reg\u00e9ny)  - Orson Scott Card</li><li>Pani Jeziora (powie\u015b\u0107) 1999 - Andrzej Sapkowski</li><li>Bellew Zawierucha 1912 - Jack London</li><li>Fa\u0142szywy trop (powie\u015b\u0107) 1995 - Henning Mankell</li><li>Bajki robot\u00f3w 1964 - Stanis\u0142aw Lem</li><li>Boles\u0142aw Chrobry (powie\u015b\u0107) 1947 - Antoni Go\u0142ubiew</li><li>De revolutionibus orbium coelestium 1543 - Miko\u0142aj Kopernik</li><li>Dzie\u0142o Wielkiego Mi\u0142osierdzia 1922 - Maria Franciszka Koz\u0142owska</li><li>Folwark zwierz\u0119cy 1945 - George Orwell<img src='http://commons.wikimedia.org/wiki/Special:FilePath/Animalism_flag.svg?width=300'/></li><li>Hamlet  - William Szekspir<img src='http://commons.wikimedia.org/wiki/Special:FilePath/Hamlet_quarto_3rd.jpg?width=300'/></li><li>Harry Potter 1997 - J. K. Rowling<img src='http://commons.wikimedia.org/wiki/Special:FilePath/Harry_Potter_wordmark.svg?width=300'/></li><li>Hobbit, czyli tam i z powrotem 1937 - John Ronald Reuel Tolkien</li><li>Hrabia Monte Christo 1844 - Aleksander Dumas (ojciec)<img src='http://commons.wikimedia.org/wiki/Special:FilePath/Louis_Fran\u00e7ais-Dant\u00e8s_sur_son_rocher.jpg?width=300'/></li><li>Kariera Nikodema Dyzmy 1932 - Tadeusz Do\u0142\u0119ga-Mostowicz</li><li>Krzy\u017cacy (powie\u015b\u0107) 1900 - Henryk Sienkiewicz<img src='http://commons.wikimedia.org/wiki/Special:FilePath/PL_Henryk_Sienkiewicz-Krzy\u017cacy_0005.jpeg?width=300'/></li><li>Lolita 1955 - Vladimir Nabokov</li><li>Mein Kampf 1925 - Adolf Hitler<img src='http://commons.wikimedia.org/wiki/Special:FilePath/Landsberg.Jail.jpg?width=300'/></li><li>Nad Niemnem 1888 - Eliza Orzeszkowa<img src='http://commons.wikimedia.org/wiki/Special:FilePath/Nad_Niemnem_-_manuscript.jpg?width=300'/></li><li>Niedoko\u0144czone opowie\u015bci 1980 - Christopher Tolkien</li><li>Nowe Ateny 1745 - Benedykt Chmielowski<img src='http://commons.wikimedia.org/wiki/Special:FilePath/Nowe_ateny1.jpg?width=300'/></li><li>Nowy wspania\u0142y \u015bwiat 1932 - Aldous Huxley</li><li>Ogniem i mieczem 1884 - Henryk Sienkiewicz<img src='http://commons.wikimedia.org/wiki/Special:FilePath/Podbipieta.JPG?width=300'/></li><li>Ojciec Goriot 1835 - Honor\u00e9 de Balzac<img src='http://commons.wikimedia.org/wiki/Special:FilePath/Father_Goriot_by_H._Daumier_(1842).JPG?width=300'/></li><li>Proces (powie\u015b\u0107) 1925 - Franz Kafka<img src='http://commons.wikimedia.org/wiki/Special:FilePath/Kafka_Der_Prozess_1925.jpg?width=300'/></li><li>Psa\u0142terz Dawid\u00f3w 1579 - Jan Kochanowski<img src='http://commons.wikimedia.org/wiki/Special:FilePath/Kochanowski_-_Psa\u0142terz_Dawid\u00f3w_(1579).jpg?width=300'/></li><li>Quo vadis 1896 - Henryk Sienkiewicz<img src='http://commons.wikimedia.org/wiki/Special:FilePath/Rzym_popiersie_Sienkiewicza_w_kosciele_Domine_Quo_Vadis.JPG?width=300'/></li><li>Romeo i Julia 1597 - William Szekspir<img src='http://commons.wikimedia.org/wiki/Special:FilePath/Romeo_and_juliet_brown.jpg?width=300'/></li><li>Silmarillion 1977 - John Ronald Reuel Tolkien<img src='http://commons.wikimedia.org/wiki/Special:FilePath/Silmarrillion,_Just_under_the_Cover.jpg?width=300'/></li><li>Solaris (powie\u015b\u0107) 1961 - Stanis\u0142aw Lem<img src='http://commons.wikimedia.org/wiki/Special:FilePath/Solaris,_various_editions_02.jpg?width=300'/></li><li>W\u0142adca Pier\u015bcieni 1954 - John Ronald Reuel Tolkien<img src='http://commons.wikimedia.org/wiki/Special:FilePath/Unico_Anello.png?width=300'/></li><li>Zew Cthulhu (opowiadanie) 1928 - Howard Phillips Lovecraft</li><li>Znaczy Kapitan 1960 - Karol Olgierd Borchardt</li><li>Anna Karenina 1877 - Lew To\u0142stoj<img src='http://commons.wikimedia.org/wiki/Special:FilePath/AnnaKareninaTitle.jpg?width=300'/></li><li>Azazel (powie\u015b\u0107) 1998 - Boris Akunin</li><li>Bezsenno\u015b\u0107 (zbi\u00f3r opowiada\u0144) 1971 - Stanis\u0142aw Lem</li><li>Ca\u0142a prawda o planecie Ksi 1983 - Janusz Zajdel</li><li>Dekorator 1998 - Boris Akunin</li><li>Diamentowa karoca 2003 - Boris Akunin</li><li>Dives in misericordia 1980 - Jan Pawe\u0142 II<img src='http://commons.wikimedia.org/wiki/Special:FilePath/John_paul_2_coa.svg?width=300'/></li><li>Droga na molo w Wigan 1937 - George Orwell</li><li>Druga Fundacja 1953 - Isaac Asimov</li><li>Dwana\u015bcie krzese\u0142 1928 - Ilja Ilf<img src='http://commons.wikimedia.org/wiki/Special:FilePath/Ostap_Bender_Monument_in_Kharkiv.jpg?width=300'/></li><li>Fundacja (powie\u015b\u0107) 1951 - Isaac Asimov</li><li>Fundacja i Imperium 1952 - Isaac Asimov</li><li>Gambit turecki 1998 - Boris Akunin</li><li>G\u0142os Pana 1968 - Stanis\u0142aw Lem</li><li>Ich czworo 1907 - Gabriela Zapolska</li><li>Inwazja z Aldebarana (zbi\u00f3r opowiada\u0144) 1959 - Stanis\u0142aw Lem</li><li>Kamienna ma\u0142pa 2002 - Jeffery Deaver</li><li>Katar (powie\u015b\u0107) 1976 - Stanis\u0142aw Lem</li><li>Kochanek \u015amierci 2001 - Boris Akunin</li><li>Kochanka \u015amierci 2001 - Boris Akunin</li><li>Koronacja (powie\u015b\u0107) 1999 - Boris Akunin</li><li>Kot w stanie czystym 1989 - Terry Pratchett</li><li>Ko\u0144 i jego ch\u0142opiec 1954 - Clive Staples Lewis</li><li>Ksi\u0119ga robot\u00f3w 1961 - Stanis\u0142aw Lem</li><li>Ksi\u0119gi narodu polskiego i pielgrzymstwa polskiego 1832 - Adam Mickiewicz<img src='http://commons.wikimedia.org/wiki/Special:FilePath/PL_Ksi\u0119gi_narodu_polskiego_i_pielgrzymstwa_polskiego_008.png?width=300'/></li><li>Kuzynki 2003 - Andrzej Pilipiuk</li><li>Lewa r\u0119ka ciemno\u015bci 1969 - Ursula K. Le Guin</li><li>Lewiatan (powie\u015b\u0107) 1998 - Boris Akunin</li><li>Mag (powie\u015b\u0107 J. Deavera) 2003 - Jeffery Deaver</li><li>Maska (zbi\u00f3r dzie\u0142) 1976 - Stanis\u0142aw Lem</li><li>Niezwyci\u0119\u017cony i inne opowiadania 1964 - Stanis\u0142aw Lem</li><li>Noc ksi\u0119\u017cycowa 1963 - Stanis\u0142aw Lem</li><li>Ojcowie i dzieci 0 - Iwan Turgieniew<img src='http://commons.wikimedia.org/wiki/Special:FilePath/Otsy1880.jpg?width=300'/></li><li>Pami\u0119tnik znaleziony w wannie 1961 - Stanis\u0142aw Lem</li><li>Pie\u015b\u0144 Lodu i Ognia 1996 - George R. R. Martin</li><li>Podr\u00f3\u017ce z Herodotem 2004 - Ryszard Kapu\u015bci\u0144ski</li><li>Polowanie (zbi\u00f3r opowiada\u0144) 1965 - Stanis\u0142aw Lem</li><li>Powt\u00f3rka (zbi\u00f3r dzie\u0142) 1979 - Stanis\u0142aw Lem</li><li>Po\u017cytek ze smoka 1993 - Stanis\u0142aw Lem</li><li>Preludium Fundacji 1988 - Isaac Asimov</li><li>Radca stanu (powie\u015b\u0107) 1998 - Boris Akunin</li><li>Rasa drapie\u017cc\u00f3w. Teksty ostatnie 2006 - Stanis\u0142aw Lem</li><li>Rilla ze Z\u0142otego Brzegu 1921 - Lucy Maud Montgomery</li><li>Sen nocy letniej 1600 - William Szekspir<img src='http://commons.wikimedia.org/wiki/Special:FilePath/MND_title_page.jpg?width=300'/></li><li>Sezam i inne opowiadania 1954 - Stanis\u0142aw Lem</li><li>Slavorum apostoli 1985 - Jan Pawe\u0142 II<img src='http://commons.wikimedia.org/wiki/Special:FilePath/John_paul_2_coa.svg?width=300'/></li><li>Summa technologiae 1964 - Stanis\u0142aw Lem</li><li>Tam gdzie spadaj\u0105 anio\u0142y 1998 - Dorota Terakowska</li><li>Tomek u \u017ar\u00f3de\u0142 Amazonki 1967 - Alfred Szklarski</li><li>Tomek w Gran Chaco 1987 - Alfred Szklarski</li><li>Tomek w grobowcach faraon\u00f3w 1994 - Alfred Szklarski</li><li>Ut unum sint 1995 - Jan Pawe\u0142 II<img src='http://commons.wikimedia.org/wiki/Special:FilePath/John_paul_2_coa.svg?width=300'/></li><li>Veritatis splendor 1993 - Jan Pawe\u0142 II<img src='http://commons.wikimedia.org/wiki/Special:FilePath/John_paul_2_coa.svg?width=300'/></li><li>Walc stulecia 1998 - Rafa\u0142 A. Ziemkiewicz</li><li>Walet pikowy (powie\u015b\u0107) 1998 - Boris Akunin</li><li>Wampir Lestat 1985 - Anne Rice</li><li>Wizja lokalna (powie\u015b\u0107) 1982 - Stanis\u0142aw Lem</li><li>Wojna i pok\u00f3j 1865 - Lew To\u0142stoj<img src='http://commons.wikimedia.org/wiki/Special:FilePath/War-and-peace_1873.gif?width=300'/></li><li>\u015amier\u0107 Achillesa 1998 - Boris Akunin</li><li>\u017bycie i przygody Remusa 1938 - Aleksander Majkowski</li><li>Casino Royale (powie\u015b\u0107) 1953 - Ian Fleming</li><li>Cie\u0144 kata 1980 - Gene Wolfe</li><li>Czarnoksi\u0119\u017cnik z Archipelagu 1968 - Ursula K. Le Guin</li><li>Czarownica z Portobello 2006 - Paulo Coelho</li><li>Czas patriot\u00f3w (powie\u015b\u0107) 1987 - Tom Clancy</li></ul>"
       ],
       "metadata": {},
       "output_type": "pyout",
       "prompt_number": 11,
       "text": [
        "\"<h1>Ksi\u0105\u017cki</h1><ul><li>V\u00e9gj\u00e1t\u00e9k (reg\u00e9ny)  - Orson Scott Card</li><li>Pani Jeziora (powie\u015b\u0107) 1999 - Andrzej Sapkowski</li><li>Bellew Zawierucha 1912 - Jack London</li><li>Fa\u0142szywy trop (powie\u015b\u0107) 1995 - Henning Mankell</li><li>Bajki robot\u00f3w 1964 - Stanis\u0142aw Lem</li><li>Boles\u0142aw Chrobry (powie\u015b\u0107) 1947 - Antoni Go\u0142ubiew</li><li>De revolutionibus orbium coelestium 1543 - Miko\u0142aj Kopernik</li><li>Dzie\u0142o Wielkiego Mi\u0142osierdzia 1922 - Maria Franciszka Koz\u0142owska</li><li>Folwark zwierz\u0119cy 1945 - George Orwell<img src='http://commons.wikimedia.org/wiki/Special:FilePath/Animalism_flag.svg?width=300'/></li><li>Hamlet  - William Szekspir<img src='http://commons.wikimedia.org/wiki/Special:FilePath/Hamlet_quarto_3rd.jpg?width=300'/></li><li>Harry Potter 1997 - J. K. Rowling<img src='http://commons.wikimedia.org/wiki/Special:FilePath/Harry_Potter_wordmark.svg?width=300'/></li><li>Hobbit, czyli tam i z powrotem 1937 - John Ronald Reuel Tolkien</li><li>Hrabia Monte Christo 1844 - Aleksander Dumas (ojciec)<img src='http://commons.wikimedia.org/wiki/Special:FilePath/Louis_Fran\u00e7ais-Dant\u00e8s_sur_son_rocher.jpg?width=300'/></li><li>Kariera Nikodema Dyzmy 1932 - Tadeusz Do\u0142\u0119ga-Mostowicz</li><li>Krzy\u017cacy (powie\u015b\u0107) 1900 - Henryk Sienkiewicz<img src='http://commons.wikimedia.org/wiki/Special:FilePath/PL_Henryk_Sienkiewicz-Krzy\u017cacy_0005.jpeg?width=300'/></li><li>Lolita 1955 - Vladimir Nabokov</li><li>Mein Kampf 1925 - Adolf Hitler<img src='http://commons.wikimedia.org/wiki/Special:FilePath/Landsberg.Jail.jpg?width=300'/></li><li>Nad Niemnem 1888 - Eliza Orzeszkowa<img src='http://commons.wikimedia.org/wiki/Special:FilePath/Nad_Niemnem_-_manuscript.jpg?width=300'/></li><li>Niedoko\u0144czone opowie\u015bci 1980 - Christopher Tolkien</li><li>Nowe Ateny 1745 - Benedykt Chmielowski<img src='http://commons.wikimedia.org/wiki/Special:FilePath/Nowe_ateny1.jpg?width=300'/></li><li>Nowy wspania\u0142y \u015bwiat 1932 - Aldous Huxley</li><li>Ogniem i mieczem 1884 - Henryk Sienkiewicz<img src='http://commons.wikimedia.org/wiki/Special:FilePath/Podbipieta.JPG?width=300'/></li><li>Ojciec Goriot 1835 - Honor\u00e9 de Balzac<img src='http://commons.wikimedia.org/wiki/Special:FilePath/Father_Goriot_by_H._Daumier_(1842).JPG?width=300'/></li><li>Proces (powie\u015b\u0107) 1925 - Franz Kafka<img src='http://commons.wikimedia.org/wiki/Special:FilePath/Kafka_Der_Prozess_1925.jpg?width=300'/></li><li>Psa\u0142terz Dawid\u00f3w 1579 - Jan Kochanowski<img src='http://commons.wikimedia.org/wiki/Special:FilePath/Kochanowski_-_Psa\u0142terz_Dawid\u00f3w_(1579).jpg?width=300'/></li><li>Quo vadis 1896 - Henryk Sienkiewicz<img src='http://commons.wikimedia.org/wiki/Special:FilePath/Rzym_popiersie_Sienkiewicza_w_kosciele_Domine_Quo_Vadis.JPG?width=300'/></li><li>Romeo i Julia 1597 - William Szekspir<img src='http://commons.wikimedia.org/wiki/Special:FilePath/Romeo_and_juliet_brown.jpg?width=300'/></li><li>Silmarillion 1977 - John Ronald Reuel Tolkien<img src='http://commons.wikimedia.org/wiki/Special:FilePath/Silmarrillion,_Just_under_the_Cover.jpg?width=300'/></li><li>Solaris (powie\u015b\u0107) 1961 - Stanis\u0142aw Lem<img src='http://commons.wikimedia.org/wiki/Special:FilePath/Solaris,_various_editions_02.jpg?width=300'/></li><li>W\u0142adca Pier\u015bcieni 1954 - John Ronald Reuel Tolkien<img src='http://commons.wikimedia.org/wiki/Special:FilePath/Unico_Anello.png?width=300'/></li><li>Zew Cthulhu (opowiadanie) 1928 - Howard Phillips Lovecraft</li><li>Znaczy Kapitan 1960 - Karol Olgierd Borchardt</li><li>Anna Karenina 1877 - Lew To\u0142stoj<img src='http://commons.wikimedia.org/wiki/Special:FilePath/AnnaKareninaTitle.jpg?width=300'/></li><li>Azazel (powie\u015b\u0107) 1998 - Boris Akunin</li><li>Bezsenno\u015b\u0107 (zbi\u00f3r opowiada\u0144) 1971 - Stanis\u0142aw Lem</li><li>Ca\u0142a prawda o planecie Ksi 1983 - Janusz Zajdel</li><li>Dekorator 1998 - Boris Akunin</li><li>Diamentowa karoca 2003 - Boris Akunin</li><li>Dives in misericordia 1980 - Jan Pawe\u0142 II<img src='http://commons.wikimedia.org/wiki/Special:FilePath/John_paul_2_coa.svg?width=300'/></li><li>Droga na molo w Wigan 1937 - George Orwell</li><li>Druga Fundacja 1953 - Isaac Asimov</li><li>Dwana\u015bcie krzese\u0142 1928 - Ilja Ilf<img src='http://commons.wikimedia.org/wiki/Special:FilePath/Ostap_Bender_Monument_in_Kharkiv.jpg?width=300'/></li><li>Fundacja (powie\u015b\u0107) 1951 - Isaac Asimov</li><li>Fundacja i Imperium 1952 - Isaac Asimov</li><li>Gambit turecki 1998 - Boris Akunin</li><li>G\u0142os Pana 1968 - Stanis\u0142aw Lem</li><li>Ich czworo 1907 - Gabriela Zapolska</li><li>Inwazja z Aldebarana (zbi\u00f3r opowiada\u0144) 1959 - Stanis\u0142aw Lem</li><li>Kamienna ma\u0142pa 2002 - Jeffery Deaver</li><li>Katar (powie\u015b\u0107) 1976 - Stanis\u0142aw Lem</li><li>Kochanek \u015amierci 2001 - Boris Akunin</li><li>Kochanka \u015amierci 2001 - Boris Akunin</li><li>Koronacja (powie\u015b\u0107) 1999 - Boris Akunin</li><li>Kot w stanie czystym 1989 - Terry Pratchett</li><li>Ko\u0144 i jego ch\u0142opiec 1954 - Clive Staples Lewis</li><li>Ksi\u0119ga robot\u00f3w 1961 - Stanis\u0142aw Lem</li><li>Ksi\u0119gi narodu polskiego i pielgrzymstwa polskiego 1832 - Adam Mickiewicz<img src='http://commons.wikimedia.org/wiki/Special:FilePath/PL_Ksi\u0119gi_narodu_polskiego_i_pielgrzymstwa_polskiego_008.png?width=300'/></li><li>Kuzynki 2003 - Andrzej Pilipiuk</li><li>Lewa r\u0119ka ciemno\u015bci 1969 - Ursula K. Le Guin</li><li>Lewiatan (powie\u015b\u0107) 1998 - Boris Akunin</li><li>Mag (powie\u015b\u0107 J. Deavera) 2003 - Jeffery Deaver</li><li>Maska (zbi\u00f3r dzie\u0142) 1976 - Stanis\u0142aw Lem</li><li>Niezwyci\u0119\u017cony i inne opowiadania 1964 - Stanis\u0142aw Lem</li><li>Noc ksi\u0119\u017cycowa 1963 - Stanis\u0142aw Lem</li><li>Ojcowie i dzieci 0 - Iwan Turgieniew<img src='http://commons.wikimedia.org/wiki/Special:FilePath/Otsy1880.jpg?width=300'/></li><li>Pami\u0119tnik znaleziony w wannie 1961 - Stanis\u0142aw Lem</li><li>Pie\u015b\u0144 Lodu i Ognia 1996 - George R. R. Martin</li><li>Podr\u00f3\u017ce z Herodotem 2004 - Ryszard Kapu\u015bci\u0144ski</li><li>Polowanie (zbi\u00f3r opowiada\u0144) 1965 - Stanis\u0142aw Lem</li><li>Powt\u00f3rka (zbi\u00f3r dzie\u0142) 1979 - Stanis\u0142aw Lem</li><li>Po\u017cytek ze smoka 1993 - Stanis\u0142aw Lem</li><li>Preludium Fundacji 1988 - Isaac Asimov</li><li>Radca stanu (powie\u015b\u0107) 1998 - Boris Akunin</li><li>Rasa drapie\u017cc\u00f3w. Teksty ostatnie 2006 - Stanis\u0142aw Lem</li><li>Rilla ze Z\u0142otego Brzegu 1921 - Lucy Maud Montgomery</li><li>Sen nocy letniej 1600 - William Szekspir<img src='http://commons.wikimedia.org/wiki/Special:FilePath/MND_title_page.jpg?width=300'/></li><li>Sezam i inne opowiadania 1954 - Stanis\u0142aw Lem</li><li>Slavorum apostoli 1985 - Jan Pawe\u0142 II<img src='http://commons.wikimedia.org/wiki/Special:FilePath/John_paul_2_coa.svg?width=300'/></li><li>Summa technologiae 1964 - Stanis\u0142aw Lem</li><li>Tam gdzie spadaj\u0105 anio\u0142y 1998 - Dorota Terakowska</li><li>Tomek u \u017ar\u00f3de\u0142 Amazonki 1967 - Alfred Szklarski</li><li>Tomek w Gran Chaco 1987 - Alfred Szklarski</li><li>Tomek w grobowcach faraon\u00f3w 1994 - Alfred Szklarski</li><li>Ut unum sint 1995 - Jan Pawe\u0142 II<img src='http://commons.wikimedia.org/wiki/Special:FilePath/John_paul_2_coa.svg?width=300'/></li><li>Veritatis splendor 1993 - Jan Pawe\u0142 II<img src='http://commons.wikimedia.org/wiki/Special:FilePath/John_paul_2_coa.svg?width=300'/></li><li>Walc stulecia 1998 - Rafa\u0142 A. Ziemkiewicz</li><li>Walet pikowy (powie\u015b\u0107) 1998 - Boris Akunin</li><li>Wampir Lestat 1985 - Anne Rice</li><li>Wizja lokalna (powie\u015b\u0107) 1982 - Stanis\u0142aw Lem</li><li>Wojna i pok\u00f3j 1865 - Lew To\u0142stoj<img src='http://commons.wikimedia.org/wiki/Special:FilePath/War-and-peace_1873.gif?width=300'/></li><li>\u015amier\u0107 Achillesa 1998 - Boris Akunin</li><li>\u017bycie i przygody Remusa 1938 - Aleksander Majkowski</li><li>Casino Royale (powie\u015b\u0107) 1953 - Ian Fleming</li><li>Cie\u0144 kata 1980 - Gene Wolfe</li><li>Czarnoksi\u0119\u017cnik z Archipelagu 1968 - Ursula K. Le Guin</li><li>Czarownica z Portobello 2006 - Paulo Coelho</li><li>Czas patriot\u00f3w (powie\u015b\u0107) 1987 - Tom Clancy</li></ul>\""
       ]
      }
     ],
     "prompt_number": 11
    },
    {
     "cell_type": "heading",
     "level": 3,
     "metadata": {},
     "source": [
      "Zadanie 10"
     ]
    },
    {
     "cell_type": "markdown",
     "metadata": {},
     "source": [
      "Wy\u015bwietl wszystkich autor\u00f3w znajduj\u0105cych si\u0119 w bazie wraz z opisem zawieraj\u0105cym ich zdj\u0119cie, dat\u0119 urodzin i \u015bmierci oraz spis \n",
      "opublikowanych ksi\u0105\u017cek. Pami\u0119taj o odpowiednim sformatowaniu dat oraz o tym, \u017ce nie wszyscy autorzy maj\u0105 przypisane wszystkie\n",
      "informacje."
     ]
    },
    {
     "cell_type": "code",
     "collapsed": false,
     "input": [
      "def display_authors()\n",
      "  html = \"<h1>Lista autor\u00f3w</h1>\"\n",
      "  authors = Author.all\n",
      "  authors.each do |author|\n",
      "    html << \"<h2>#{author.name} #{author.surname}</h2>\"\n",
      "    if (author.image_url != nil)\n",
      "      html << \" <img src='#{author.image_url}' />\"\n",
      "    end\n",
      "    if author.books.empty?\n",
      "      html << \"<p>Brak ksi\u0105\u017cek dla tego autora</p>\"\n",
      "    else\n",
      "      html << \"<p>Lista ksi\u0105\u017cek</p>\"\n",
      "    end\n",
      "    author.books.each do |book|\n",
      "        html << \"<p>#{book.title} #{book.published}</p>\"\n",
      "    end\n",
      "  end\n",
      "  html\n",
      "end\n",
      "  \n",
      "document = display_authors()\n",
      "IRuby.html document"
     ],
     "language": "python",
     "metadata": {},
     "outputs": [
      {
       "html": [
        "<h1>Lista autor\u00f3w</h1><h2>Juliusz S\u0142owacki</h2><p>Brak ksi\u0105\u017cek dla tego autora</p><h2>Henryk Sienkiewicz</h2><p>Lista ksi\u0105\u017cek</p><p>Krzy\u017cacy (powie\u015b\u0107) 1900</p><p>Ogniem i mieczem 1884</p><p>Quo vadis 1896</p><h2>Eliza Orzeszkowa</h2><p>Lista ksi\u0105\u017cek</p><p>Nad Niemnem 1888</p><h2>Adam Mickiewicz</h2><p>Lista ksi\u0105\u017cek</p><p>Ksi\u0119gi narodu polskiego i pielgrzymstwa polskiego 1832</p><h2>Orson Scott Card</h2> <img src='http://commons.wikimedia.org/wiki/Special:FilePath/Orson_Scott_Card_at_BYU_Symposium_20080216_closeup.jpg?width=300' /><p>Lista ksi\u0105\u017cek</p><p>V\u00e9gj\u00e1t\u00e9k (reg\u00e9ny) </p><h2>Andrzej Sapkowski</h2> <img src='http://commons.wikimedia.org/wiki/Special:FilePath/Sapkowski.jpg?width=300' /><p>Lista ksi\u0105\u017cek</p><p>Pani Jeziora (powie\u015b\u0107) 1999</p><h2>Jack London</h2> <img src='http://commons.wikimedia.org/wiki/Special:FilePath/JackLondon02.jpeg?width=300' /><p>Lista ksi\u0105\u017cek</p><p>Bellew Zawierucha 1912</p><h2>Henning Mankell</h2> <img src='http://commons.wikimedia.org/wiki/Special:FilePath/Henning_Mankell_3_2011_Shankbone.jpg?width=300' /><p>Lista ksi\u0105\u017cek</p><p>Fa\u0142szywy trop (powie\u015b\u0107) 1995</p><h2>Stanis\u0142aw Lem</h2> <img src='http://commons.wikimedia.org/wiki/Special:FilePath/Stanislaw_Lem_2.jpg?width=300' /><p>Lista ksi\u0105\u017cek</p><p>Bajki robot\u00f3w 1964</p><p>Solaris (powie\u015b\u0107) 1961</p><p>Bezsenno\u015b\u0107 (zbi\u00f3r opowiada\u0144) 1971</p><p>G\u0142os Pana 1968</p><p>Inwazja z Aldebarana (zbi\u00f3r opowiada\u0144) 1959</p><p>Katar (powie\u015b\u0107) 1976</p><p>Ksi\u0119ga robot\u00f3w 1961</p><p>Maska (zbi\u00f3r dzie\u0142) 1976</p><p>Niezwyci\u0119\u017cony i inne opowiadania 1964</p><p>Noc ksi\u0119\u017cycowa 1963</p><p>Pami\u0119tnik znaleziony w wannie 1961</p><p>Polowanie (zbi\u00f3r opowiada\u0144) 1965</p><p>Powt\u00f3rka (zbi\u00f3r dzie\u0142) 1979</p><p>Po\u017cytek ze smoka 1993</p><p>Rasa drapie\u017cc\u00f3w. Teksty ostatnie 2006</p><p>Sezam i inne opowiadania 1954</p><p>Summa technologiae 1964</p><p>Wizja lokalna (powie\u015b\u0107) 1982</p><h2>Antoni Go\u0142ubiew</h2> <img src='http://commons.wikimedia.org/wiki/Special:FilePath/Antoni_Golubiew.jpg?width=300' /><p>Lista ksi\u0105\u017cek</p><p>Boles\u0142aw Chrobry (powie\u015b\u0107) 1947</p><h2>Miko\u0142aj Kopernik</h2> <img src='http://commons.wikimedia.org/wiki/Special:FilePath/Nikolaus_Kopernikus.jpg?width=300' /><p>Lista ksi\u0105\u017cek</p><p>De revolutionibus orbium coelestium 1543</p><h2>Maria Franciszka Koz\u0142owska</h2> <img src='http://commons.wikimedia.org/wiki/Special:FilePath/Mateczk_Koz\u0142owska.JPG?width=300' /><p>Lista ksi\u0105\u017cek</p><p>Dzie\u0142o Wielkiego Mi\u0142osierdzia 1922</p><h2>George Orwell</h2> <img src='http://commons.wikimedia.org/wiki/Special:FilePath/GeoreOrwell.jpg?width=300' /><p>Lista ksi\u0105\u017cek</p><p>Folwark zwierz\u0119cy 1945</p><p>Droga na molo w Wigan 1937</p><h2>William Szekspir</h2> <img src='http://commons.wikimedia.org/wiki/Special:FilePath/Shakespeare.jpg?width=300' /><p>Lista ksi\u0105\u017cek</p><p>Hamlet </p><p>Romeo i Julia 1597</p><p>Sen nocy letniej 1600</p><h2>J. K. Rowling</h2> <img src='http://commons.wikimedia.org/wiki/Special:FilePath/J._K._Rowling_2010.jpg?width=300' /><p>Lista ksi\u0105\u017cek</p><p>Harry Potter 1997</p><h2>John Ronald Reuel Tolkien</h2> <img src='http://commons.wikimedia.org/wiki/Special:FilePath/Tolkien_1916.jpg?width=300' /><p>Lista ksi\u0105\u017cek</p><p>Hobbit, czyli tam i z powrotem 1937</p><p>Silmarillion 1977</p><p>W\u0142adca Pier\u015bcieni 1954</p><h2>Aleksander Dumas (ojciec)</h2> <img src='http://commons.wikimedia.org/wiki/Special:FilePath/Dumas_by_Nadar,_1855.jpg?width=300' /><p>Lista ksi\u0105\u017cek</p><p>Hrabia Monte Christo 1844</p><h2>Tadeusz Do\u0142\u0119ga-Mostowicz</h2> <img src='http://commons.wikimedia.org/wiki/Special:FilePath/Tadeusz_Dolega-Mostowicz.jpg?width=300' /><p>Lista ksi\u0105\u017cek</p><p>Kariera Nikodema Dyzmy 1932</p><h2>Vladimir Nabokov</h2> <img src='http://commons.wikimedia.org/wiki/Special:FilePath/Monument_Nabokov_Montreux_23.12.2006.jpg?width=300' /><p>Lista ksi\u0105\u017cek</p><p>Lolita 1955</p><h2>Adolf Hitler</h2> <img src='http://commons.wikimedia.org/wiki/Special:FilePath/Hitler_portrait_crop.jpg?width=300' /><p>Lista ksi\u0105\u017cek</p><p>Mein Kampf 1925</p><h2>Christopher Tolkien</h2><p>Lista ksi\u0105\u017cek</p><p>Niedoko\u0144czone opowie\u015bci 1980</p><h2>Benedykt Chmielowski</h2> <img src='http://commons.wikimedia.org/wiki/Special:FilePath/POL_COA_Na\u0142\u0119cz.svg?width=300' /><p>Lista ksi\u0105\u017cek</p><p>Nowe Ateny 1745</p><h2>Aldous Huxley</h2> <img src='http://commons.wikimedia.org/wiki/Special:FilePath/Aldous_Huxley.JPG?width=300' /><p>Lista ksi\u0105\u017cek</p><p>Nowy wspania\u0142y \u015bwiat 1932</p><h2>Honor\u00e9 de Balzac</h2> <img src='http://commons.wikimedia.org/wiki/Special:FilePath/HBalzac.jpg?width=300' /><p>Lista ksi\u0105\u017cek</p><p>Ojciec Goriot 1835</p><h2>Franz Kafka</h2> <img src='http://commons.wikimedia.org/wiki/Special:FilePath/Kafka1906.jpg?width=300' /><p>Lista ksi\u0105\u017cek</p><p>Proces (powie\u015b\u0107) 1925</p><h2>Jan Kochanowski</h2> <img src='http://commons.wikimedia.org/wiki/Special:FilePath/Jan_Kochanowski.png?width=300' /><p>Lista ksi\u0105\u017cek</p><p>Psa\u0142terz Dawid\u00f3w 1579</p><h2>Howard Phillips Lovecraft</h2> <img src='http://commons.wikimedia.org/wiki/Special:FilePath/Howard_Phillips_Lovecraft_in_1915.jpg?width=300' /><p>Lista ksi\u0105\u017cek</p><p>Zew Cthulhu (opowiadanie) 1928</p><h2>Karol Olgierd Borchardt</h2> <img src='http://commons.wikimedia.org/wiki/Special:FilePath/Karol_Olgierd_Borchardt's_house_in_Gdynia.jpg?width=300' /><p>Lista ksi\u0105\u017cek</p><p>Znaczy Kapitan 1960</p><h2>Lew To\u0142stoj</h2> <img src='http://commons.wikimedia.org/wiki/Special:FilePath/Ilya_Efimovich_Repin_(1844-1930)_-_Portrait_of_Leo_Tolstoy_(1887).jpg?width=300' /><p>Lista ksi\u0105\u017cek</p><p>Anna Karenina 1877</p><p>Wojna i pok\u00f3j 1865</p><h2>Boris Akunin</h2> <img src='http://commons.wikimedia.org/wiki/Special:FilePath/Boris_Akunin_2012.jpg?width=300' /><p>Lista ksi\u0105\u017cek</p><p>Azazel (powie\u015b\u0107) 1998</p><p>Dekorator 1998</p><p>Diamentowa karoca 2003</p><p>Gambit turecki 1998</p><p>Kochanek \u015amierci 2001</p><p>Kochanka \u015amierci 2001</p><p>Koronacja (powie\u015b\u0107) 1999</p><p>Lewiatan (powie\u015b\u0107) 1998</p><p>Radca stanu (powie\u015b\u0107) 1998</p><p>Walet pikowy (powie\u015b\u0107) 1998</p><p>\u015amier\u0107 Achillesa 1998</p><h2>Janusz Zajdel</h2> <img src='http://commons.wikimedia.org/wiki/Special:FilePath/Janusz_A_Zajdel.jpg?width=300' /><p>Lista ksi\u0105\u017cek</p><p>Ca\u0142a prawda o planecie Ksi 1983</p><h2>Jan Pawe\u0142 II</h2> <img src='http://commons.wikimedia.org/wiki/Special:FilePath/John_Paul_II_Medal_of_Freedom_2004.jpg?width=300' /><p>Lista ksi\u0105\u017cek</p><p>Dives in misericordia 1980</p><p>Slavorum apostoli 1985</p><p>Ut unum sint 1995</p><p>Veritatis splendor 1993</p><h2>Isaac Asimov</h2> <img src='http://commons.wikimedia.org/wiki/Special:FilePath/Isaac.Asimov01.jpg?width=300' /><p>Lista ksi\u0105\u017cek</p><p>Druga Fundacja 1953</p><p>Fundacja (powie\u015b\u0107) 1951</p><p>Fundacja i Imperium 1952</p><p>Preludium Fundacji 1988</p><h2>Ilja Ilf</h2> <img src='http://commons.wikimedia.org/wiki/Special:FilePath/Ilya_Ilf.jpg?width=300' /><p>Lista ksi\u0105\u017cek</p><p>Dwana\u015bcie krzese\u0142 1928</p><h2>Jewgienij Pietrow (pisarz)</h2> <img src='http://commons.wikimedia.org/wiki/Special:FilePath/Yevgeny_Petrov.jpg?width=300' /><p>Brak ksi\u0105\u017cek dla tego autora</p><h2>Gabriela Zapolska</h2> <img src='http://commons.wikimedia.org/wiki/Special:FilePath/Gabriela_Zapolska.PNG?width=300' /><p>Lista ksi\u0105\u017cek</p><p>Ich czworo 1907</p><h2>Jeffery Deaver</h2> <img src='http://commons.wikimedia.org/wiki/Special:FilePath/Jeffery_Deaver_October_2006.jpg?width=300' /><p>Lista ksi\u0105\u017cek</p><p>Kamienna ma\u0142pa 2002</p><p>Mag (powie\u015b\u0107 J. Deavera) 2003</p><h2>Terry Pratchett</h2> <img src='http://commons.wikimedia.org/wiki/Special:FilePath/Terry_Pratchett,_September_2009_1.jpg?width=300' /><p>Lista ksi\u0105\u017cek</p><p>Kot w stanie czystym 1989</p><h2>Clive Staples Lewis</h2> <img src='http://commons.wikimedia.org/wiki/Special:FilePath/Statue_of_C.S._Lewis,_Belfast.jpg?width=300' /><p>Lista ksi\u0105\u017cek</p><p>Ko\u0144 i jego ch\u0142opiec 1954</p><h2>Andrzej Pilipiuk</h2> <img src='http://commons.wikimedia.org/wiki/Special:FilePath/Andrzej_Pilipiuk-Polcon2006.jpg?width=300' /><p>Lista ksi\u0105\u017cek</p><p>Kuzynki 2003</p><h2>Ursula K. Le Guin</h2> <img src='http://commons.wikimedia.org/wiki/Special:FilePath/UrsulaLeGuin.01.jpg?width=300' /><p>Lista ksi\u0105\u017cek</p><p>Lewa r\u0119ka ciemno\u015bci 1969</p><p>Czarnoksi\u0119\u017cnik z Archipelagu 1968</p><h2>Iwan Turgieniew</h2> <img src='http://commons.wikimedia.org/wiki/Special:FilePath/Turgenev_by_Repin.jpg?width=300' /><p>Lista ksi\u0105\u017cek</p><p>Ojcowie i dzieci 0</p><h2>George R. R. Martin</h2> <img src='http://commons.wikimedia.org/wiki/Special:FilePath/George_R_R_Martin_2011_Shankbone.JPG?width=300' /><p>Lista ksi\u0105\u017cek</p><p>Pie\u015b\u0144 Lodu i Ognia 1996</p><h2>Ryszard Kapu\u015bci\u0144ski</h2> <img src='http://commons.wikimedia.org/wiki/Special:FilePath/Ryszard_Kapuscinski_by_Kubik_17.05.1997_-_cropped.jpg?width=300' /><p>Lista ksi\u0105\u017cek</p><p>Podr\u00f3\u017ce z Herodotem 2004</p><h2>Lucy Maud Montgomery</h2> <img src='http://commons.wikimedia.org/wiki/Special:FilePath/Lucy_Maud_Montgomery.JPG?width=300' /><p>Lista ksi\u0105\u017cek</p><p>Rilla ze Z\u0142otego Brzegu 1921</p><h2>Dorota Terakowska</h2> <img src='http://commons.wikimedia.org/wiki/Special:FilePath/Dorota_Terakowska_grob.jpg?width=300' /><p>Lista ksi\u0105\u017cek</p><p>Tam gdzie spadaj\u0105 anio\u0142y 1998</p><h2>Alfred Szklarski</h2> <img src='http://commons.wikimedia.org/wiki/Special:FilePath/Katowice_-_pomnik_Alfred_Szklarski.JPG?width=300' /><p>Lista ksi\u0105\u017cek</p><p>Tomek u \u017ar\u00f3de\u0142 Amazonki 1967</p><p>Tomek w Gran Chaco 1987</p><p>Tomek w grobowcach faraon\u00f3w 1994</p><h2>Adam Zelga</h2><p>Brak ksi\u0105\u017cek dla tego autora</p><h2>Rafa\u0142 A. Ziemkiewicz</h2> <img src='http://commons.wikimedia.org/wiki/Special:FilePath/Rafa\u0142_Ziemkiewicz.jpg?width=300' /><p>Lista ksi\u0105\u017cek</p><p>Walc stulecia 1998</p><h2>Anne Rice</h2> <img src='http://commons.wikimedia.org/wiki/Special:FilePath/Anne_Rice.jpg?width=300' /><p>Lista ksi\u0105\u017cek</p><p>Wampir Lestat 1985</p><h2>Aleksander Majkowski</h2> <img src='http://commons.wikimedia.org/wiki/Special:FilePath/POL_Polonia_Restituta_Oficerski_BAR.svg?width=300' /><p>Lista ksi\u0105\u017cek</p><p>\u017bycie i przygody Remusa 1938</p><h2>Ian Fleming</h2> <img src='http://commons.wikimedia.org/wiki/Special:FilePath/For_Your_Eyes_Only.jpg?width=300' /><p>Lista ksi\u0105\u017cek</p><p>Casino Royale (powie\u015b\u0107) 1953</p><h2>Gene Wolfe</h2> <img src='http://commons.wikimedia.org/wiki/Special:FilePath/Gene_Wolfe,_2005.png?width=300' /><p>Lista ksi\u0105\u017cek</p><p>Cie\u0144 kata 1980</p><h2>Paulo Coelho</h2> <img src='http://commons.wikimedia.org/wiki/Special:FilePath/Paulo_Coelho_nrkbeta.jpg?width=300' /><p>Lista ksi\u0105\u017cek</p><p>Czarownica z Portobello 2006</p><h2>Tom Clancy</h2> <img src='http://commons.wikimedia.org/wiki/Special:FilePath/Tom_Clancy_at_Burns_Library_cropped.jpg?width=300' /><p>Lista ksi\u0105\u017cek</p><p>Czas patriot\u00f3w (powie\u015b\u0107) 1987</p>"
       ],
       "metadata": {},
       "output_type": "pyout",
       "prompt_number": 15,
       "text": [
        "\"<h1>Lista autor\u00f3w</h1><h2>Juliusz S\u0142owacki</h2><p>Brak ksi\u0105\u017cek dla tego autora</p><h2>Henryk Sienkiewicz</h2><p>Lista ksi\u0105\u017cek</p><p>Krzy\u017cacy (powie\u015b\u0107) 1900</p><p>Ogniem i mieczem 1884</p><p>Quo vadis 1896</p><h2>Eliza Orzeszkowa</h2><p>Lista ksi\u0105\u017cek</p><p>Nad Niemnem 1888</p><h2>Adam Mickiewicz</h2><p>Lista ksi\u0105\u017cek</p><p>Ksi\u0119gi narodu polskiego i pielgrzymstwa polskiego 1832</p><h2>Orson Scott Card</h2> <img src='http://commons.wikimedia.org/wiki/Special:FilePath/Orson_Scott_Card_at_BYU_Symposium_20080216_closeup.jpg?width=300' /><p>Lista ksi\u0105\u017cek</p><p>V\u00e9gj\u00e1t\u00e9k (reg\u00e9ny) </p><h2>Andrzej Sapkowski</h2> <img src='http://commons.wikimedia.org/wiki/Special:FilePath/Sapkowski.jpg?width=300' /><p>Lista ksi\u0105\u017cek</p><p>Pani Jeziora (powie\u015b\u0107) 1999</p><h2>Jack London</h2> <img src='http://commons.wikimedia.org/wiki/Special:FilePath/JackLondon02.jpeg?width=300' /><p>Lista ksi\u0105\u017cek</p><p>Bellew Zawierucha 1912</p><h2>Henning Mankell</h2> <img src='http://commons.wikimedia.org/wiki/Special:FilePath/Henning_Mankell_3_2011_Shankbone.jpg?width=300' /><p>Lista ksi\u0105\u017cek</p><p>Fa\u0142szywy trop (powie\u015b\u0107) 1995</p><h2>Stanis\u0142aw Lem</h2> <img src='http://commons.wikimedia.org/wiki/Special:FilePath/Stanislaw_Lem_2.jpg?width=300' /><p>Lista ksi\u0105\u017cek</p><p>Bajki robot\u00f3w 1964</p><p>Solaris (powie\u015b\u0107) 1961</p><p>Bezsenno\u015b\u0107 (zbi\u00f3r opowiada\u0144) 1971</p><p>G\u0142os Pana 1968</p><p>Inwazja z Aldebarana (zbi\u00f3r opowiada\u0144) 1959</p><p>Katar (powie\u015b\u0107) 1976</p><p>Ksi\u0119ga robot\u00f3w 1961</p><p>Maska (zbi\u00f3r dzie\u0142) 1976</p><p>Niezwyci\u0119\u017cony i inne opowiadania 1964</p><p>Noc ksi\u0119\u017cycowa 1963</p><p>Pami\u0119tnik znaleziony w wannie 1961</p><p>Polowanie (zbi\u00f3r opowiada\u0144) 1965</p><p>Powt\u00f3rka (zbi\u00f3r dzie\u0142) 1979</p><p>Po\u017cytek ze smoka 1993</p><p>Rasa drapie\u017cc\u00f3w. Teksty ostatnie 2006</p><p>Sezam i inne opowiadania 1954</p><p>Summa technologiae 1964</p><p>Wizja lokalna (powie\u015b\u0107) 1982</p><h2>Antoni Go\u0142ubiew</h2> <img src='http://commons.wikimedia.org/wiki/Special:FilePath/Antoni_Golubiew.jpg?width=300' /><p>Lista ksi\u0105\u017cek</p><p>Boles\u0142aw Chrobry (powie\u015b\u0107) 1947</p><h2>Miko\u0142aj Kopernik</h2> <img src='http://commons.wikimedia.org/wiki/Special:FilePath/Nikolaus_Kopernikus.jpg?width=300' /><p>Lista ksi\u0105\u017cek</p><p>De revolutionibus orbium coelestium 1543</p><h2>Maria Franciszka Koz\u0142owska</h2> <img src='http://commons.wikimedia.org/wiki/Special:FilePath/Mateczk_Koz\u0142owska.JPG?width=300' /><p>Lista ksi\u0105\u017cek</p><p>Dzie\u0142o Wielkiego Mi\u0142osierdzia 1922</p><h2>George Orwell</h2> <img src='http://commons.wikimedia.org/wiki/Special:FilePath/GeoreOrwell.jpg?width=300' /><p>Lista ksi\u0105\u017cek</p><p>Folwark zwierz\u0119cy 1945</p><p>Droga na molo w Wigan 1937</p><h2>William Szekspir</h2> <img src='http://commons.wikimedia.org/wiki/Special:FilePath/Shakespeare.jpg?width=300' /><p>Lista ksi\u0105\u017cek</p><p>Hamlet </p><p>Romeo i Julia 1597</p><p>Sen nocy letniej 1600</p><h2>J. K. Rowling</h2> <img src='http://commons.wikimedia.org/wiki/Special:FilePath/J._K._Rowling_2010.jpg?width=300' /><p>Lista ksi\u0105\u017cek</p><p>Harry Potter 1997</p><h2>John Ronald Reuel Tolkien</h2> <img src='http://commons.wikimedia.org/wiki/Special:FilePath/Tolkien_1916.jpg?width=300' /><p>Lista ksi\u0105\u017cek</p><p>Hobbit, czyli tam i z powrotem 1937</p><p>Silmarillion 1977</p><p>W\u0142adca Pier\u015bcieni 1954</p><h2>Aleksander Dumas (ojciec)</h2> <img src='http://commons.wikimedia.org/wiki/Special:FilePath/Dumas_by_Nadar,_1855.jpg?width=300' /><p>Lista ksi\u0105\u017cek</p><p>Hrabia Monte Christo 1844</p><h2>Tadeusz Do\u0142\u0119ga-Mostowicz</h2> <img src='http://commons.wikimedia.org/wiki/Special:FilePath/Tadeusz_Dolega-Mostowicz.jpg?width=300' /><p>Lista ksi\u0105\u017cek</p><p>Kariera Nikodema Dyzmy 1932</p><h2>Vladimir Nabokov</h2> <img src='http://commons.wikimedia.org/wiki/Special:FilePath/Monument_Nabokov_Montreux_23.12.2006.jpg?width=300' /><p>Lista ksi\u0105\u017cek</p><p>Lolita 1955</p><h2>Adolf Hitler</h2> <img src='http://commons.wikimedia.org/wiki/Special:FilePath/Hitler_portrait_crop.jpg?width=300' /><p>Lista ksi\u0105\u017cek</p><p>Mein Kampf 1925</p><h2>Christopher Tolkien</h2><p>Lista ksi\u0105\u017cek</p><p>Niedoko\u0144czone opowie\u015bci 1980</p><h2>Benedykt Chmielowski</h2> <img src='http://commons.wikimedia.org/wiki/Special:FilePath/POL_COA_Na\u0142\u0119cz.svg?width=300' /><p>Lista ksi\u0105\u017cek</p><p>Nowe Ateny 1745</p><h2>Aldous Huxley</h2> <img src='http://commons.wikimedia.org/wiki/Special:FilePath/Aldous_Huxley.JPG?width=300' /><p>Lista ksi\u0105\u017cek</p><p>Nowy wspania\u0142y \u015bwiat 1932</p><h2>Honor\u00e9 de Balzac</h2> <img src='http://commons.wikimedia.org/wiki/Special:FilePath/HBalzac.jpg?width=300' /><p>Lista ksi\u0105\u017cek</p><p>Ojciec Goriot 1835</p><h2>Franz Kafka</h2> <img src='http://commons.wikimedia.org/wiki/Special:FilePath/Kafka1906.jpg?width=300' /><p>Lista ksi\u0105\u017cek</p><p>Proces (powie\u015b\u0107) 1925</p><h2>Jan Kochanowski</h2> <img src='http://commons.wikimedia.org/wiki/Special:FilePath/Jan_Kochanowski.png?width=300' /><p>Lista ksi\u0105\u017cek</p><p>Psa\u0142terz Dawid\u00f3w 1579</p><h2>Howard Phillips Lovecraft</h2> <img src='http://commons.wikimedia.org/wiki/Special:FilePath/Howard_Phillips_Lovecraft_in_1915.jpg?width=300' /><p>Lista ksi\u0105\u017cek</p><p>Zew Cthulhu (opowiadanie) 1928</p><h2>Karol Olgierd Borchardt</h2> <img src='http://commons.wikimedia.org/wiki/Special:FilePath/Karol_Olgierd_Borchardt's_house_in_Gdynia.jpg?width=300' /><p>Lista ksi\u0105\u017cek</p><p>Znaczy Kapitan 1960</p><h2>Lew To\u0142stoj</h2> <img src='http://commons.wikimedia.org/wiki/Special:FilePath/Ilya_Efimovich_Repin_(1844-1930)_-_Portrait_of_Leo_Tolstoy_(1887).jpg?width=300' /><p>Lista ksi\u0105\u017cek</p><p>Anna Karenina 1877</p><p>Wojna i pok\u00f3j 1865</p><h2>Boris Akunin</h2> <img src='http://commons.wikimedia.org/wiki/Special:FilePath/Boris_Akunin_2012.jpg?width=300' /><p>Lista ksi\u0105\u017cek</p><p>Azazel (powie\u015b\u0107) 1998</p><p>Dekorator 1998</p><p>Diamentowa karoca 2003</p><p>Gambit turecki 1998</p><p>Kochanek \u015amierci 2001</p><p>Kochanka \u015amierci 2001</p><p>Koronacja (powie\u015b\u0107) 1999</p><p>Lewiatan (powie\u015b\u0107) 1998</p><p>Radca stanu (powie\u015b\u0107) 1998</p><p>Walet pikowy (powie\u015b\u0107) 1998</p><p>\u015amier\u0107 Achillesa 1998</p><h2>Janusz Zajdel</h2> <img src='http://commons.wikimedia.org/wiki/Special:FilePath/Janusz_A_Zajdel.jpg?width=300' /><p>Lista ksi\u0105\u017cek</p><p>Ca\u0142a prawda o planecie Ksi 1983</p><h2>Jan Pawe\u0142 II</h2> <img src='http://commons.wikimedia.org/wiki/Special:FilePath/John_Paul_II_Medal_of_Freedom_2004.jpg?width=300' /><p>Lista ksi\u0105\u017cek</p><p>Dives in misericordia 1980</p><p>Slavorum apostoli 1985</p><p>Ut unum sint 1995</p><p>Veritatis splendor 1993</p><h2>Isaac Asimov</h2> <img src='http://commons.wikimedia.org/wiki/Special:FilePath/Isaac.Asimov01.jpg?width=300' /><p>Lista ksi\u0105\u017cek</p><p>Druga Fundacja 1953</p><p>Fundacja (powie\u015b\u0107) 1951</p><p>Fundacja i Imperium 1952</p><p>Preludium Fundacji 1988</p><h2>Ilja Ilf</h2> <img src='http://commons.wikimedia.org/wiki/Special:FilePath/Ilya_Ilf.jpg?width=300' /><p>Lista ksi\u0105\u017cek</p><p>Dwana\u015bcie krzese\u0142 1928</p><h2>Jewgienij Pietrow (pisarz)</h2> <img src='http://commons.wikimedia.org/wiki/Special:FilePath/Yevgeny_Petrov.jpg?width=300' /><p>Brak ksi\u0105\u017cek dla tego autora</p><h2>Gabriela Zapolska</h2> <img src='http://commons.wikimedia.org/wiki/Special:FilePath/Gabriela_Zapolska.PNG?width=300' /><p>Lista ksi\u0105\u017cek</p><p>Ich czworo 1907</p><h2>Jeffery Deaver</h2> <img src='http://commons.wikimedia.org/wiki/Special:FilePath/Jeffery_Deaver_October_2006.jpg?width=300' /><p>Lista ksi\u0105\u017cek</p><p>Kamienna ma\u0142pa 2002</p><p>Mag (powie\u015b\u0107 J. Deavera) 2003</p><h2>Terry Pratchett</h2> <img src='http://commons.wikimedia.org/wiki/Special:FilePath/Terry_Pratchett,_September_2009_1.jpg?width=300' /><p>Lista ksi\u0105\u017cek</p><p>Kot w stanie czystym 1989</p><h2>Clive Staples Lewis</h2> <img src='http://commons.wikimedia.org/wiki/Special:FilePath/Statue_of_C.S._Lewis,_Belfast.jpg?width=300' /><p>Lista ksi\u0105\u017cek</p><p>Ko\u0144 i jego ch\u0142opiec 1954</p><h2>Andrzej Pilipiuk</h2> <img src='http://commons.wikimedia.org/wiki/Special:FilePath/Andrzej_Pilipiuk-Polcon2006.jpg?width=300' /><p>Lista ksi\u0105\u017cek</p><p>Kuzynki 2003</p><h2>Ursula K. Le Guin</h2> <img src='http://commons.wikimedia.org/wiki/Special:FilePath/UrsulaLeGuin.01.jpg?width=300' /><p>Lista ksi\u0105\u017cek</p><p>Lewa r\u0119ka ciemno\u015bci 1969</p><p>Czarnoksi\u0119\u017cnik z Archipelagu 1968</p><h2>Iwan Turgieniew</h2> <img src='http://commons.wikimedia.org/wiki/Special:FilePath/Turgenev_by_Repin.jpg?width=300' /><p>Lista ksi\u0105\u017cek</p><p>Ojcowie i dzieci 0</p><h2>George R. R. Martin</h2> <img src='http://commons.wikimedia.org/wiki/Special:FilePath/George_R_R_Martin_2011_Shankbone.JPG?width=300' /><p>Lista ksi\u0105\u017cek</p><p>Pie\u015b\u0144 Lodu i Ognia 1996</p><h2>Ryszard Kapu\u015bci\u0144ski</h2> <img src='http://commons.wikimedia.org/wiki/Special:FilePath/Ryszard_Kapuscinski_by_Kubik_17.05.1997_-_cropped.jpg?width=300' /><p>Lista ksi\u0105\u017cek</p><p>Podr\u00f3\u017ce z Herodotem 2004</p><h2>Lucy Maud Montgomery</h2> <img src='http://commons.wikimedia.org/wiki/Special:FilePath/Lucy_Maud_Montgomery.JPG?width=300' /><p>Lista ksi\u0105\u017cek</p><p>Rilla ze Z\u0142otego Brzegu 1921</p><h2>Dorota Terakowska</h2> <img src='http://commons.wikimedia.org/wiki/Special:FilePath/Dorota_Terakowska_grob.jpg?width=300' /><p>Lista ksi\u0105\u017cek</p><p>Tam gdzie spadaj\u0105 anio\u0142y 1998</p><h2>Alfred Szklarski</h2> <img src='http://commons.wikimedia.org/wiki/Special:FilePath/Katowice_-_pomnik_Alfred_Szklarski.JPG?width=300' /><p>Lista ksi\u0105\u017cek</p><p>Tomek u \u017ar\u00f3de\u0142 Amazonki 1967</p><p>Tomek w Gran Chaco 1987</p><p>Tomek w grobowcach faraon\u00f3w 1994</p><h2>Adam Zelga</h2><p>Brak ksi\u0105\u017cek dla tego autora</p><h2>Rafa\u0142 A. Ziemkiewicz</h2> <img src='http://commons.wikimedia.org/wiki/Special:FilePath/Rafa\u0142_Ziemkiewicz.jpg?width=300' /><p>Lista ksi\u0105\u017cek</p><p>Walc stulecia 1998</p><h2>Anne Rice</h2> <img src='http://commons.wikimedia.org/wiki/Special:FilePath/Anne_Rice.jpg?width=300' /><p>Lista ksi\u0105\u017cek</p><p>Wampir Lestat 1985</p><h2>Aleksander Majkowski</h2> <img src='http://commons.wikimedia.org/wiki/Special:FilePath/POL_Polonia_Restituta_Oficerski_BAR.svg?width=300' /><p>Lista ksi\u0105\u017cek</p><p>\u017bycie i przygody Remusa 1938</p><h2>Ian Fleming</h2> <img src='http://commons.wikimedia.org/wiki/Special:FilePath/For_Your_Eyes_Only.jpg?width=300' /><p>Lista ksi\u0105\u017cek</p><p>Casino Royale (powie\u015b\u0107) 1953</p><h2>Gene Wolfe</h2> <img src='http://commons.wikimedia.org/wiki/Special:FilePath/Gene_Wolfe,_2005.png?width=300' /><p>Lista ksi\u0105\u017cek</p><p>Cie\u0144 kata 1980</p><h2>Paulo Coelho</h2> <img src='http://commons.wikimedia.org/wiki/Special:FilePath/Paulo_Coelho_nrkbeta.jpg?width=300' /><p>Lista ksi\u0105\u017cek</p><p>Czarownica z Portobello 2006</p><h2>Tom Clancy</h2> <img src='http://commons.wikimedia.org/wiki/Special:FilePath/Tom_Clancy_at_Burns_Library_cropped.jpg?width=300' /><p>Lista ksi\u0105\u017cek</p><p>Czas patriot\u00f3w (powie\u015b\u0107) 1987</p>\""
       ]
      }
     ],
     "prompt_number": 15
    }
   ],
   "metadata": {}
  }
 ]
}